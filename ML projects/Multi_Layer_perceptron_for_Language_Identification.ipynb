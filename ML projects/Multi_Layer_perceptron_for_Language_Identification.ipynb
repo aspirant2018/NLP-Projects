{
  "nbformat": 4,
  "nbformat_minor": 0,
  "metadata": {
    "colab": {
      "provenance": []
    },
    "kernelspec": {
      "name": "python3",
      "display_name": "Python 3"
    },
    "language_info": {
      "name": "python"
    },
    "widgets": {
      "application/vnd.jupyter.widget-state+json": {
        "0060c00af04542b6b8c9deb77eeb8107": {
          "model_module": "@jupyter-widgets/controls",
          "model_name": "HBoxModel",
          "model_module_version": "1.5.0",
          "state": {
            "_dom_classes": [],
            "_model_module": "@jupyter-widgets/controls",
            "_model_module_version": "1.5.0",
            "_model_name": "HBoxModel",
            "_view_count": null,
            "_view_module": "@jupyter-widgets/controls",
            "_view_module_version": "1.5.0",
            "_view_name": "HBoxView",
            "box_style": "",
            "children": [
              "IPY_MODEL_12e5382aad63402b993a293b2b290dbc",
              "IPY_MODEL_f1de1c098136443d9e339d570b48eb91",
              "IPY_MODEL_85ceac9b2a524746ac28d9d6d5b90c1d"
            ],
            "layout": "IPY_MODEL_05126fdc19cc40dc8bec787a3ecefc95"
          }
        },
        "12e5382aad63402b993a293b2b290dbc": {
          "model_module": "@jupyter-widgets/controls",
          "model_name": "HTMLModel",
          "model_module_version": "1.5.0",
          "state": {
            "_dom_classes": [],
            "_model_module": "@jupyter-widgets/controls",
            "_model_module_version": "1.5.0",
            "_model_name": "HTMLModel",
            "_view_count": null,
            "_view_module": "@jupyter-widgets/controls",
            "_view_module_version": "1.5.0",
            "_view_name": "HTMLView",
            "description": "",
            "description_tooltip": null,
            "layout": "IPY_MODEL_3bb0cb9558644cf48b982a107f5a7239",
            "placeholder": "​",
            "style": "IPY_MODEL_20e7e34fb4944e708d2dac22e4db5a03",
            "value": "language_classifier.pth: 100%"
          }
        },
        "f1de1c098136443d9e339d570b48eb91": {
          "model_module": "@jupyter-widgets/controls",
          "model_name": "FloatProgressModel",
          "model_module_version": "1.5.0",
          "state": {
            "_dom_classes": [],
            "_model_module": "@jupyter-widgets/controls",
            "_model_module_version": "1.5.0",
            "_model_name": "FloatProgressModel",
            "_view_count": null,
            "_view_module": "@jupyter-widgets/controls",
            "_view_module_version": "1.5.0",
            "_view_name": "ProgressView",
            "bar_style": "success",
            "description": "",
            "description_tooltip": null,
            "layout": "IPY_MODEL_1e9bd9c7379b45d8917569e865e70438",
            "max": 338736,
            "min": 0,
            "orientation": "horizontal",
            "style": "IPY_MODEL_984acf139d294920ac9ea3dd8c0d6c90",
            "value": 338736
          }
        },
        "85ceac9b2a524746ac28d9d6d5b90c1d": {
          "model_module": "@jupyter-widgets/controls",
          "model_name": "HTMLModel",
          "model_module_version": "1.5.0",
          "state": {
            "_dom_classes": [],
            "_model_module": "@jupyter-widgets/controls",
            "_model_module_version": "1.5.0",
            "_model_name": "HTMLModel",
            "_view_count": null,
            "_view_module": "@jupyter-widgets/controls",
            "_view_module_version": "1.5.0",
            "_view_name": "HTMLView",
            "description": "",
            "description_tooltip": null,
            "layout": "IPY_MODEL_74512f4c96b748e49cb151c6f916829e",
            "placeholder": "​",
            "style": "IPY_MODEL_5b44c7f8db304916991e331351bb49fa",
            "value": " 339k/339k [00:00&lt;00:00, 100kB/s]"
          }
        },
        "05126fdc19cc40dc8bec787a3ecefc95": {
          "model_module": "@jupyter-widgets/base",
          "model_name": "LayoutModel",
          "model_module_version": "1.2.0",
          "state": {
            "_model_module": "@jupyter-widgets/base",
            "_model_module_version": "1.2.0",
            "_model_name": "LayoutModel",
            "_view_count": null,
            "_view_module": "@jupyter-widgets/base",
            "_view_module_version": "1.2.0",
            "_view_name": "LayoutView",
            "align_content": null,
            "align_items": null,
            "align_self": null,
            "border": null,
            "bottom": null,
            "display": null,
            "flex": null,
            "flex_flow": null,
            "grid_area": null,
            "grid_auto_columns": null,
            "grid_auto_flow": null,
            "grid_auto_rows": null,
            "grid_column": null,
            "grid_gap": null,
            "grid_row": null,
            "grid_template_areas": null,
            "grid_template_columns": null,
            "grid_template_rows": null,
            "height": null,
            "justify_content": null,
            "justify_items": null,
            "left": null,
            "margin": null,
            "max_height": null,
            "max_width": null,
            "min_height": null,
            "min_width": null,
            "object_fit": null,
            "object_position": null,
            "order": null,
            "overflow": null,
            "overflow_x": null,
            "overflow_y": null,
            "padding": null,
            "right": null,
            "top": null,
            "visibility": null,
            "width": null
          }
        },
        "3bb0cb9558644cf48b982a107f5a7239": {
          "model_module": "@jupyter-widgets/base",
          "model_name": "LayoutModel",
          "model_module_version": "1.2.0",
          "state": {
            "_model_module": "@jupyter-widgets/base",
            "_model_module_version": "1.2.0",
            "_model_name": "LayoutModel",
            "_view_count": null,
            "_view_module": "@jupyter-widgets/base",
            "_view_module_version": "1.2.0",
            "_view_name": "LayoutView",
            "align_content": null,
            "align_items": null,
            "align_self": null,
            "border": null,
            "bottom": null,
            "display": null,
            "flex": null,
            "flex_flow": null,
            "grid_area": null,
            "grid_auto_columns": null,
            "grid_auto_flow": null,
            "grid_auto_rows": null,
            "grid_column": null,
            "grid_gap": null,
            "grid_row": null,
            "grid_template_areas": null,
            "grid_template_columns": null,
            "grid_template_rows": null,
            "height": null,
            "justify_content": null,
            "justify_items": null,
            "left": null,
            "margin": null,
            "max_height": null,
            "max_width": null,
            "min_height": null,
            "min_width": null,
            "object_fit": null,
            "object_position": null,
            "order": null,
            "overflow": null,
            "overflow_x": null,
            "overflow_y": null,
            "padding": null,
            "right": null,
            "top": null,
            "visibility": null,
            "width": null
          }
        },
        "20e7e34fb4944e708d2dac22e4db5a03": {
          "model_module": "@jupyter-widgets/controls",
          "model_name": "DescriptionStyleModel",
          "model_module_version": "1.5.0",
          "state": {
            "_model_module": "@jupyter-widgets/controls",
            "_model_module_version": "1.5.0",
            "_model_name": "DescriptionStyleModel",
            "_view_count": null,
            "_view_module": "@jupyter-widgets/base",
            "_view_module_version": "1.2.0",
            "_view_name": "StyleView",
            "description_width": ""
          }
        },
        "1e9bd9c7379b45d8917569e865e70438": {
          "model_module": "@jupyter-widgets/base",
          "model_name": "LayoutModel",
          "model_module_version": "1.2.0",
          "state": {
            "_model_module": "@jupyter-widgets/base",
            "_model_module_version": "1.2.0",
            "_model_name": "LayoutModel",
            "_view_count": null,
            "_view_module": "@jupyter-widgets/base",
            "_view_module_version": "1.2.0",
            "_view_name": "LayoutView",
            "align_content": null,
            "align_items": null,
            "align_self": null,
            "border": null,
            "bottom": null,
            "display": null,
            "flex": null,
            "flex_flow": null,
            "grid_area": null,
            "grid_auto_columns": null,
            "grid_auto_flow": null,
            "grid_auto_rows": null,
            "grid_column": null,
            "grid_gap": null,
            "grid_row": null,
            "grid_template_areas": null,
            "grid_template_columns": null,
            "grid_template_rows": null,
            "height": null,
            "justify_content": null,
            "justify_items": null,
            "left": null,
            "margin": null,
            "max_height": null,
            "max_width": null,
            "min_height": null,
            "min_width": null,
            "object_fit": null,
            "object_position": null,
            "order": null,
            "overflow": null,
            "overflow_x": null,
            "overflow_y": null,
            "padding": null,
            "right": null,
            "top": null,
            "visibility": null,
            "width": null
          }
        },
        "984acf139d294920ac9ea3dd8c0d6c90": {
          "model_module": "@jupyter-widgets/controls",
          "model_name": "ProgressStyleModel",
          "model_module_version": "1.5.0",
          "state": {
            "_model_module": "@jupyter-widgets/controls",
            "_model_module_version": "1.5.0",
            "_model_name": "ProgressStyleModel",
            "_view_count": null,
            "_view_module": "@jupyter-widgets/base",
            "_view_module_version": "1.2.0",
            "_view_name": "StyleView",
            "bar_color": null,
            "description_width": ""
          }
        },
        "74512f4c96b748e49cb151c6f916829e": {
          "model_module": "@jupyter-widgets/base",
          "model_name": "LayoutModel",
          "model_module_version": "1.2.0",
          "state": {
            "_model_module": "@jupyter-widgets/base",
            "_model_module_version": "1.2.0",
            "_model_name": "LayoutModel",
            "_view_count": null,
            "_view_module": "@jupyter-widgets/base",
            "_view_module_version": "1.2.0",
            "_view_name": "LayoutView",
            "align_content": null,
            "align_items": null,
            "align_self": null,
            "border": null,
            "bottom": null,
            "display": null,
            "flex": null,
            "flex_flow": null,
            "grid_area": null,
            "grid_auto_columns": null,
            "grid_auto_flow": null,
            "grid_auto_rows": null,
            "grid_column": null,
            "grid_gap": null,
            "grid_row": null,
            "grid_template_areas": null,
            "grid_template_columns": null,
            "grid_template_rows": null,
            "height": null,
            "justify_content": null,
            "justify_items": null,
            "left": null,
            "margin": null,
            "max_height": null,
            "max_width": null,
            "min_height": null,
            "min_width": null,
            "object_fit": null,
            "object_position": null,
            "order": null,
            "overflow": null,
            "overflow_x": null,
            "overflow_y": null,
            "padding": null,
            "right": null,
            "top": null,
            "visibility": null,
            "width": null
          }
        },
        "5b44c7f8db304916991e331351bb49fa": {
          "model_module": "@jupyter-widgets/controls",
          "model_name": "DescriptionStyleModel",
          "model_module_version": "1.5.0",
          "state": {
            "_model_module": "@jupyter-widgets/controls",
            "_model_module_version": "1.5.0",
            "_model_name": "DescriptionStyleModel",
            "_view_count": null,
            "_view_module": "@jupyter-widgets/base",
            "_view_module_version": "1.2.0",
            "_view_name": "StyleView",
            "description_width": ""
          }
        }
      }
    }
  },
  "cells": [
    {
      "cell_type": "markdown",
      "source": [
        "# Building a Multi Layer perceptron for Language Identification"
      ],
      "metadata": {
        "id": "tSu0NvICC5Of"
      }
    },
    {
      "cell_type": "code",
      "execution_count": 2,
      "metadata": {
        "colab": {
          "base_uri": "https://localhost:8080/"
        },
        "id": "7WO3ilxQC1p5",
        "outputId": "441271e9-6cc2-4be4-e0bf-f6fd6bfa161d"
      },
      "outputs": [
        {
          "output_type": "execute_result",
          "data": {
            "text/plain": [
              "<torch._C.Generator at 0x7b76a5de5430>"
            ]
          },
          "metadata": {},
          "execution_count": 2
        }
      ],
      "source": [
        "# Dependencies\n",
        "import torch\n",
        "import torch.nn as nn\n",
        "import torch.nn.functional as F\n",
        "import torch.optim as optim # for the optimizers (SDG, Adam ...)\n",
        "\n",
        "from random import shuffle\n",
        "\n",
        "torch.manual_seed(1) # Sets the seed for generating random numbers on all devices. Returns a torch.Generator object."
      ]
    },
    {
      "cell_type": "markdown",
      "source": [
        "# Language Identification"
      ],
      "metadata": {
        "id": "30LNfccAejhm"
      }
    },
    {
      "cell_type": "markdown",
      "source": [
        "## Defining The Network"
      ],
      "metadata": {
        "id": "X5vtXz5XEO3b"
      }
    },
    {
      "cell_type": "code",
      "source": [
        "from pydantic import Field\n",
        "\n",
        "\n",
        "class LanguageClassifier(nn.Module):\n",
        "  def __init__(self,\n",
        "               input_size = Field(..., description=\"The vocabulary size\"),\n",
        "               hidden_size= Field(..., description=\"The Hidden size\"),\n",
        "               output_size= Field(..., description=\"The number of classes here, languages\")\n",
        "               ):\n",
        "\n",
        "    super(LanguageClassifier, self).__init__()\n",
        "\n",
        "    self.input_size  = input_size\n",
        "    self.hidden_size = hidden_size\n",
        "    self.output_size = output_size\n",
        "\n",
        "\n",
        "    # Linear Layer : Wc + b\n",
        "    self.linear1 = nn.Linear(self.input_size, self.hidden_size)\n",
        "    self.linear2 = nn.Linear(self.hidden_size, self.output_size)\n",
        "\n",
        "\n",
        "  def forward(self,X):\n",
        "    \"\"\"\n",
        "      args:\n",
        "          X:     [batch x input_size]\n",
        "        output:\n",
        "          probs: [batch x output_size]\n",
        "\n",
        "    \"\"\"\n",
        "\n",
        "\n",
        "    if X.shape[1] != self.input_size:\n",
        "      raise Exception(f\"Input size does not match! The input size of the Batch {X.shape[1]} must match the input size of the Network {self.input_size}\")\n",
        "\n",
        "\n",
        "    X = self.linear1(X)   # 1st hidden layer\n",
        "    X = F.sigmoid(X)      # Sigmoid Activation Function\n",
        "    X = self.linear2(X)   # 2nd Hidden Layer\n",
        "\n",
        "    log_probs = F.log_softmax(X,dim=1) # [b x output_size]\n",
        "\n",
        "    return log_probs\n",
        "\n",
        "\n"
      ],
      "metadata": {
        "id": "f--DwvmDDQOe"
      },
      "execution_count": 3,
      "outputs": []
    },
    {
      "cell_type": "markdown",
      "source": [
        "## Extracting The Data"
      ],
      "metadata": {
        "id": "wXsjSm6aewPM"
      }
    },
    {
      "cell_type": "code",
      "source": [
        "data_dir = './lang_identification_toy_dataset-ep-en-fr/'\n",
        "\n",
        "import os\n",
        "\n",
        "if not os.path.exists(data_dir):\n",
        "  # shell commands can be run using !\n",
        "  !pip install wget\n",
        "  import wget\n",
        "\n",
        "  # The URL for the dataset zip file.\n",
        "  url = 'http://www.linguist.univ-paris-diderot.fr/~mcandito/divers/lang_identification_toy_dataset-ep-en-fr.tgz'\n",
        "\n",
        "\n",
        "  if not os.path.exists('./lang_identification_toy_dataset-ep-en-fr.tgz'):\n",
        "    print('Downloading dataset')\n",
        "    wget.download(url, './lang_identification_toy_dataset-ep-en-fr.tgz')\n",
        "    !tar zxf lang_identification_toy_dataset-ep-en-fr.tgz"
      ],
      "metadata": {
        "colab": {
          "base_uri": "https://localhost:8080/"
        },
        "id": "-XHyEkcWelTP",
        "outputId": "9016b37e-0a48-47f7-cd20-9b6b15ccb788"
      },
      "execution_count": 13,
      "outputs": [
        {
          "output_type": "stream",
          "name": "stdout",
          "text": [
            "Collecting wget\n",
            "  Downloading wget-3.2.zip (10 kB)\n",
            "  Preparing metadata (setup.py) ... \u001b[?25l\u001b[?25hdone\n",
            "Building wheels for collected packages: wget\n",
            "  Building wheel for wget (setup.py) ... \u001b[?25l\u001b[?25hdone\n",
            "  Created wheel for wget: filename=wget-3.2-py3-none-any.whl size=9655 sha256=7fb45c27b00c3d418d5c616da455af19551a66aeb6fe8b9c34a4f5ba038af1b5\n",
            "  Stored in directory: /root/.cache/pip/wheels/40/b3/0f/a40dbd1c6861731779f62cc4babcb234387e11d697df70ee97\n",
            "Successfully built wget\n",
            "Installing collected packages: wget\n",
            "Successfully installed wget-3.2\n",
            "Downloading dataset\n"
          ]
        }
      ]
    },
    {
      "cell_type": "code",
      "source": [
        "# The data files\n",
        "!dir lang_identification_toy_dataset-ep-en-fr/"
      ],
      "metadata": {
        "colab": {
          "base_uri": "https://localhost:8080/"
        },
        "id": "9G28EzOQfAS6",
        "outputId": "638d950c-97e2-47ee-b36d-040aa8b6add6"
      },
      "execution_count": 14,
      "outputs": [
        {
          "output_type": "stream",
          "name": "stdout",
          "text": [
            "ep-en.tok.dev\tep-en.tok.train  ep-fr.tok.test\n",
            "ep-en.tok.test\tep-fr.tok.dev\t ep-fr.tok.train\n"
          ]
        }
      ]
    },
    {
      "cell_type": "markdown",
      "source": [
        "## Transforming The data:"
      ],
      "metadata": {
        "id": "d7RSTRCyt2cy"
      }
    },
    {
      "cell_type": "code",
      "source": [
        "import os\n",
        "from pathlib import Path\n",
        "\n",
        "class preprocessing:\n",
        "\n",
        "  '''\n",
        "  This class will return n lists\n",
        "  The training dataset (list of tuple)\n",
        "  The test dataset (list of tuple)\n",
        "  '''\n",
        "  def __init__(self,data_dir):\n",
        "    self.data_dir = data_dir\n",
        "\n",
        "    self.train_files = []\n",
        "    self.test_files  = []\n",
        "    self.dev_files   = []\n",
        "\n",
        "    self.separate_sets()\n",
        "\n",
        "\n",
        "  def separate_sets(self):\n",
        "    for file in os.listdir(self.data_dir):\n",
        "      if file.endswith(\".train\"):\n",
        "        self.train_files.append(file)\n",
        "      elif file.endswith(\".test\"):\n",
        "        self.test_files.append(file)\n",
        "      elif file.endswith(\".dev\"):\n",
        "        self.dev_files.append(file)\n",
        "      else:\n",
        "        continue\n",
        "\n",
        "\n",
        "\n",
        "  def read_file(self,filepath):\n",
        "    with open(self.data_dir+filepath,'r',encoding='utf-8') as f:\n",
        "      return f.readlines()\n",
        "\n",
        "\n",
        "  def create_set(self,type_files:list):\n",
        "    all_examples = []\n",
        "\n",
        "    for file in type_files:\n",
        "        if 'en' in file:\n",
        "            result = [(line.strip(), 'ENGLISH') for line in self.read_file(file)]\n",
        "        elif 'fr' in file:\n",
        "            result = [(line.strip(), 'FRENCH') for line in self.read_file(file)]\n",
        "        else:\n",
        "            result = [(line.strip(), 'SPANISH') for line in self.read_file(file)]\n",
        "        all_examples.extend(result)\n",
        "\n",
        "    return all_examples"
      ],
      "metadata": {
        "id": "vYJAnOC_fC_D"
      },
      "execution_count": 15,
      "outputs": []
    },
    {
      "cell_type": "code",
      "source": [
        "pre = preprocessing(data_dir)\n",
        "\n",
        "train_examples = pre.create_set(pre.train_files)\n",
        "test_examples  = pre.create_set(pre.test_files)\n",
        "dev_examples   = pre.create_set(pre.dev_files)\n",
        "\n",
        "\n",
        "print(\"sample of train examples:\" , train_examples[0])\n",
        "print(\"sample of test  examples:\" , test_examples[0])\n",
        "print(\"sample of dev   examples:\" , dev_examples[0])\n",
        "\n",
        "print()\n",
        "\n",
        "print(\"size train examples:\",len(train_examples))\n",
        "print(\"size test  examples:\",len(test_examples))\n",
        "print(\"size dev   examples:\",len(dev_examples))"
      ],
      "metadata": {
        "colab": {
          "base_uri": "https://localhost:8080/"
        },
        "id": "DOc-77H2f1iK",
        "outputId": "8b936cb4-7d7f-4b2b-dc2b-21919ad17cc8"
      },
      "execution_count": 16,
      "outputs": [
        {
          "output_type": "stream",
          "name": "stdout",
          "text": [
            "sample of train examples: ('Resumption of the session', 'ENGLISH')\n",
            "sample of test  examples: (\"Le rapport sur l' Ancienne république yougoslave de Macédoine salue ce qui a été réalisé par la mise en œuvre de l' accord-cadre d' Okhrid , qui traite l' aspect politique des relations interethniques .\", 'FRENCH')\n",
            "sample of dev   examples: (\"Cette nouvelle république n' a pas encore appris les pratiques diplomatiques européennes , ayant placé ses espoirs sur l' adhésion à l' OTAN , simplement à cause de promesses des États-Unis et d' espoirs infantiles et malavisés de libération de l' esclavage .\", 'FRENCH')\n",
            "\n",
            "size train examples: 1000\n",
            "size test  examples: 200\n",
            "size dev   examples: 200\n"
          ]
        }
      ]
    },
    {
      "cell_type": "code",
      "source": [
        "from sklearn.feature_extraction.text import TfidfVectorizer\n",
        "from sklearn.preprocessing import LabelEncoder\n",
        "\n",
        "from torch import Tensor\n",
        "import numpy as np\n",
        "\n",
        "\n",
        "vectorizer = TfidfVectorizer(analyzer=\"word\")\n",
        "encoder = LabelEncoder()\n",
        "\n",
        "\n",
        "\n",
        "train_set = [x[0] for x in train_examples]\n",
        "test_set  = [x[0] for x in test_examples]\n",
        "dev_set   = [x[0] for x in dev_examples]\n",
        "\n",
        "y_train = [x[1] for x in train_examples]\n",
        "y_test  = [x[1] for x in test_examples]\n",
        "y_dev   = [x[1] for x in dev_examples]\n",
        "\n",
        "\n",
        "X_train = vectorizer.fit_transform(train_set)\n",
        "X_test  = vectorizer.transform(test_set)\n",
        "X_dev   = vectorizer.transform(dev_set)\n",
        "\n",
        "y_train = encoder.fit_transform(y_train)\n",
        "y_test  = encoder.transform(y_test)\n",
        "y_dev   = encoder.transform(y_dev)\n",
        "\n",
        "\n",
        "def to_tensor(A: np.ndarray, dtype: np.dtype) -> Tensor:\n",
        "    if not isinstance(A, np.ndarray):\n",
        "        raise TypeError(f\"Expected np.ndarray, got {type(A)}\")\n",
        "    return torch.from_numpy(A.astype(dtype))\n",
        "\n",
        "\n",
        "X_train = to_tensor(X_train.toarray(),np.float32)\n",
        "X_test  = to_tensor(X_test.toarray() ,np.float32)\n",
        "X_dev   = to_tensor(X_dev.toarray()  ,np.float32)\n",
        "\n",
        "y_train = to_tensor(y_train, np.int16)\n",
        "y_test  = to_tensor(y_test, np.int16)\n",
        "y_dev   = to_tensor(y_dev, np.int16)\n",
        "\n",
        "\n",
        "print(X_train.shape)\n",
        "print(X_test.shape)\n",
        "print(X_dev.shape)\n",
        "\n",
        "print(y_train.shape)\n",
        "print(y_test.shape)\n",
        "print(y_dev.shape)\n",
        "\n",
        "print(len(encoder.classes_))"
      ],
      "metadata": {
        "colab": {
          "base_uri": "https://localhost:8080/"
        },
        "id": "bzW-D4C4f3wV",
        "outputId": "894f4171-29d1-4e9c-f1ec-76c7eb330b8c"
      },
      "execution_count": 17,
      "outputs": [
        {
          "output_type": "stream",
          "name": "stdout",
          "text": [
            "torch.Size([1000, 4204])\n",
            "torch.Size([200, 4204])\n",
            "torch.Size([200, 4204])\n",
            "torch.Size([1000])\n",
            "torch.Size([200])\n",
            "torch.Size([200])\n",
            "2\n"
          ]
        }
      ]
    },
    {
      "cell_type": "markdown",
      "source": [
        "## Training the model"
      ],
      "metadata": {
        "id": "yJcXRXP9p0KB"
      }
    },
    {
      "cell_type": "code",
      "source": [
        "from torch.utils.data import DataLoader, TensorDataset\n",
        "from sklearn.metrics import accuracy_score\n",
        "\n",
        "\n",
        "classifier = LanguageClassifier(input_size=X_train.shape[1], hidden_size=20, output_size=len(encoder.classes_))\n",
        "loss_fn = nn.NLLLoss()                                  # Negative Log Likelihood loss function\n",
        "optimizer = optim.SGD(classifier.parameters(),lr=0.1)   # The Gradient descent algorithm function\n",
        "\n",
        "def training(epochs:int,\n",
        "             batch_size:int,\n",
        "             classifier:LanguageClassifier,\n",
        "             X_train:Tensor, y_train:Tensor,\n",
        "             X_dev:Tensor,y_dev:Tensor\n",
        "             ):\n",
        "  '''\n",
        "  Training loop\n",
        "  args:\n",
        "    epochs: number of epochs\n",
        "    batch_size: batch size\n",
        "  '''\n",
        "\n",
        "  train_dataset = TensorDataset(X_train, y_train) # Combine features and labels into a dataset\n",
        "  train_loader  = DataLoader(train_dataset, batch_size=batch_size, shuffle=True)   # Create a DataLoader for batching and shuffling\n",
        "  dev_loader    = DataLoader(TensorDataset(X_dev, y_dev), batch_size=batch_size, shuffle=False)\n",
        "\n",
        "\n",
        "\n",
        "\n",
        "\n",
        "  # Training Phase\n",
        "  train_losses = []\n",
        "  dev_losses   = []\n",
        "\n",
        "  train_accuracies = []\n",
        "  dev_accuracies   = []\n",
        "\n",
        "  print(\"Training Phase\\n\")\n",
        "\n",
        "  for epoch in range(epochs):\n",
        "\n",
        "    print(f\"--Epoch {epoch+1}:--\")\n",
        "    classifier.train()\n",
        "\n",
        "    batch_accuracy = []\n",
        "    batch_loss     = []\n",
        "\n",
        "    for x_batch, y_batch in train_loader:\n",
        "\n",
        "        classifier.zero_grad() # (re)sets all parameter gradients to 0\n",
        "\n",
        "        # Forward Propagation\n",
        "        log_probs = classifier(x_batch)\n",
        "        y_pred    = torch.argmax(log_probs,dim=1)\n",
        "\n",
        "        # Metrics\n",
        "        accuracy = accuracy_score(y_pred,y_batch)\n",
        "        loss     = loss_fn(log_probs,y_batch.long())\n",
        "\n",
        "\n",
        "        # Compute the loss of the i-th batch\n",
        "        batch_loss.append(loss.item())\n",
        "        batch_accuracy.append(accuracy)\n",
        "\n",
        "        # Back Propagation\n",
        "        loss.backward()\n",
        "        optimizer.step()\n",
        "\n",
        "    # End of Batch loop\n",
        "    print(f\"{'Training Loss':<20} {sum(batch_loss)/len(batch_loss)}\")\n",
        "    print(f\"{'Training Accuracy':<20} {sum(batch_accuracy)/len(batch_accuracy)}\")\n",
        "    print()\n",
        "    train_losses.append(sum(batch_loss)/len(batch_loss))\n",
        "    train_accuracies.append(sum(batch_accuracy)/len(batch_accuracy))\n",
        "\n",
        "\n",
        "    classifier.eval()\n",
        "\n",
        "    batch_loss     = []\n",
        "    batch_accuracy = []\n",
        "\n",
        "    with torch.no_grad():\n",
        "\n",
        "      for x_dev_batch, y_dev_batch in dev_loader:\n",
        "          log_probs = classifier(x_dev_batch)\n",
        "          y_pred    = torch.argmax(log_probs,dim=1)\n",
        "\n",
        "          # Metrics\n",
        "          accuracy = accuracy_score(y_pred,y_dev_batch)\n",
        "          loss = loss_fn(log_probs,y_dev_batch.long())\n",
        "\n",
        "          batch_loss.append(loss)\n",
        "          batch_accuracy.append(accuracy)\n",
        "\n",
        "    print(f\"{'Validation Loss':<20} {sum(batch_loss)/len(batch_loss)}\")\n",
        "    print(f\"{'Validation Accuracy':<20} {sum(batch_accuracy)/len(batch_accuracy)}\")\n",
        "    print()\n",
        "    dev_losses.append((sum(batch_loss)/len(batch_loss)).item())\n",
        "    dev_accuracies.append((sum(batch_accuracy)/len(batch_accuracy)))\n",
        "\n",
        "  return {\n",
        "    \"train_losses\": train_losses,\n",
        "    \"dev_losses\": dev_losses,\n",
        "    \"train_accuracies\": train_accuracies,\n",
        "    \"dev_accuracies\": dev_accuracies\n",
        "    }\n"
      ],
      "metadata": {
        "id": "8mLLcKOgqDmG"
      },
      "execution_count": 80,
      "outputs": []
    },
    {
      "cell_type": "code",
      "source": [
        "losses = training(epochs=50,\n",
        "                  batch_size=32,\n",
        "                  classifier=classifier,\n",
        "                  X_train=X_train,\n",
        "                  y_train=y_train,\n",
        "                  X_dev=X_dev,\n",
        "                  y_dev=y_dev\n",
        "                   )"
      ],
      "metadata": {
        "colab": {
          "base_uri": "https://localhost:8080/"
        },
        "id": "i1Wg3XLfWKU_",
        "outputId": "39826deb-26b0-4682-ac79-5fdcfdbb5718"
      },
      "execution_count": 81,
      "outputs": [
        {
          "output_type": "stream",
          "name": "stdout",
          "text": [
            "Training Phase\n",
            "\n",
            "--Epoch 1:--\n",
            "Training Loss        0.6923557166010141\n",
            "Training Accuracy    0.5380859375\n",
            "\n",
            "Validation Loss      0.7467341423034668\n",
            "Validation Accuracy  0.44642857142857145\n",
            "\n",
            "--Epoch 2:--\n",
            "Training Loss        0.6955398824065924\n",
            "Training Accuracy    0.498046875\n",
            "\n",
            "Validation Loss      0.6857051253318787\n",
            "Validation Accuracy  0.5535714285714286\n",
            "\n",
            "--Epoch 3:--\n",
            "Training Loss        0.694731118157506\n",
            "Training Accuracy    0.5146484375\n",
            "\n",
            "Validation Loss      0.6846440434455872\n",
            "Validation Accuracy  0.5535714285714286\n",
            "\n",
            "--Epoch 4:--\n",
            "Training Loss        0.6917776558548212\n",
            "Training Accuracy    0.5400390625\n",
            "\n",
            "Validation Loss      0.6890839338302612\n",
            "Validation Accuracy  0.8303571428571429\n",
            "\n",
            "--Epoch 5:--\n",
            "Training Loss        0.6915726754814386\n",
            "Training Accuracy    0.5224609375\n",
            "\n",
            "Validation Loss      0.6924848556518555\n",
            "Validation Accuracy  0.44642857142857145\n",
            "\n",
            "--Epoch 6:--\n",
            "Training Loss        0.6904422398656607\n",
            "Training Accuracy    0.533203125\n",
            "\n",
            "Validation Loss      0.7038208842277527\n",
            "Validation Accuracy  0.44642857142857145\n",
            "\n",
            "--Epoch 7:--\n",
            "Training Loss        0.6897114813327789\n",
            "Training Accuracy    0.5537109375\n",
            "\n",
            "Validation Loss      0.7112358808517456\n",
            "Validation Accuracy  0.44642857142857145\n",
            "\n",
            "--Epoch 8:--\n",
            "Training Loss        0.6886585336178541\n",
            "Training Accuracy    0.5546875\n",
            "\n",
            "Validation Loss      0.6864372491836548\n",
            "Validation Accuracy  0.5535714285714286\n",
            "\n",
            "--Epoch 9:--\n",
            "Training Loss        0.68205576390028\n",
            "Training Accuracy    0.5517578125\n",
            "\n",
            "Validation Loss      0.686763346195221\n",
            "Validation Accuracy  0.44642857142857145\n",
            "\n",
            "--Epoch 10:--\n",
            "Training Loss        0.6830227263271809\n",
            "Training Accuracy    0.5771484375\n",
            "\n",
            "Validation Loss      0.7015830278396606\n",
            "Validation Accuracy  0.44642857142857145\n",
            "\n",
            "--Epoch 11:--\n",
            "Training Loss        0.6770785469561815\n",
            "Training Accuracy    0.6005859375\n",
            "\n",
            "Validation Loss      0.6666678190231323\n",
            "Validation Accuracy  0.5535714285714286\n",
            "\n",
            "--Epoch 12:--\n",
            "Training Loss        0.679633779451251\n",
            "Training Accuracy    0.619140625\n",
            "\n",
            "Validation Loss      0.6801541447639465\n",
            "Validation Accuracy  0.44642857142857145\n",
            "\n",
            "--Epoch 13:--\n",
            "Training Loss        0.6692161522805691\n",
            "Training Accuracy    0.625\n",
            "\n",
            "Validation Loss      0.668799102306366\n",
            "Validation Accuracy  0.46875\n",
            "\n",
            "--Epoch 14:--\n",
            "Training Loss        0.6634382661432028\n",
            "Training Accuracy    0.6689453125\n",
            "\n",
            "Validation Loss      0.7141827344894409\n",
            "Validation Accuracy  0.44642857142857145\n",
            "\n",
            "--Epoch 15:--\n",
            "Training Loss        0.6561984438449144\n",
            "Training Accuracy    0.7294921875\n",
            "\n",
            "Validation Loss      0.6416577100753784\n",
            "Validation Accuracy  0.5535714285714286\n",
            "\n",
            "--Epoch 16:--\n",
            "Training Loss        0.651157084852457\n",
            "Training Accuracy    0.763671875\n",
            "\n",
            "Validation Loss      0.6331701874732971\n",
            "Validation Accuracy  0.5535714285714286\n",
            "\n",
            "--Epoch 17:--\n",
            "Training Loss        0.6401487458497286\n",
            "Training Accuracy    0.728515625\n",
            "\n",
            "Validation Loss      0.6234349012374878\n",
            "Validation Accuracy  0.9196428571428571\n",
            "\n",
            "--Epoch 18:--\n",
            "Training Loss        0.6320487502962351\n",
            "Training Accuracy    0.8427734375\n",
            "\n",
            "Validation Loss      0.6330329179763794\n",
            "Validation Accuracy  0.5446428571428571\n",
            "\n",
            "--Epoch 19:--\n",
            "Training Loss        0.6190876830369234\n",
            "Training Accuracy    0.875\n",
            "\n",
            "Validation Loss      0.6073901057243347\n",
            "Validation Accuracy  0.9017857142857143\n",
            "\n",
            "--Epoch 20:--\n",
            "Training Loss        0.6037349700927734\n",
            "Training Accuracy    0.9296875\n",
            "\n",
            "Validation Loss      0.5845566391944885\n",
            "Validation Accuracy  1.0\n",
            "\n",
            "--Epoch 21:--\n",
            "Training Loss        0.5867376495152712\n",
            "Training Accuracy    0.970703125\n",
            "\n",
            "Validation Loss      0.5674623250961304\n",
            "Validation Accuracy  0.9776785714285714\n",
            "\n",
            "--Epoch 22:--\n",
            "Training Loss        0.5708430055528879\n",
            "Training Accuracy    0.9111328125\n",
            "\n",
            "Validation Loss      0.5409772992134094\n",
            "Validation Accuracy  0.90625\n",
            "\n",
            "--Epoch 23:--\n",
            "Training Loss        0.5491282679140568\n",
            "Training Accuracy    0.97265625\n",
            "\n",
            "Validation Loss      0.5529295206069946\n",
            "Validation Accuracy  0.75\n",
            "\n",
            "--Epoch 24:--\n",
            "Training Loss        0.5282407458871603\n",
            "Training Accuracy    0.958984375\n",
            "\n",
            "Validation Loss      0.49457812309265137\n",
            "Validation Accuracy  0.9910714285714286\n",
            "\n",
            "--Epoch 25:--\n",
            "Training Loss        0.5025143008679152\n",
            "Training Accuracy    0.9794921875\n",
            "\n",
            "Validation Loss      0.47015413641929626\n",
            "Validation Accuracy  0.9464285714285714\n",
            "\n",
            "--Epoch 26:--\n",
            "Training Loss        0.4788413345813751\n",
            "Training Accuracy    0.9892578125\n",
            "\n",
            "Validation Loss      0.4575524628162384\n",
            "Validation Accuracy  0.9642857142857143\n",
            "\n",
            "--Epoch 27:--\n",
            "Training Loss        0.45235630962997675\n",
            "Training Accuracy    0.994140625\n",
            "\n",
            "Validation Loss      0.43242910504341125\n",
            "Validation Accuracy  0.9642857142857143\n",
            "\n",
            "--Epoch 28:--\n",
            "Training Loss        0.4266551658511162\n",
            "Training Accuracy    0.9931640625\n",
            "\n",
            "Validation Loss      0.39416059851646423\n",
            "Validation Accuracy  0.9776785714285714\n",
            "\n",
            "--Epoch 29:--\n",
            "Training Loss        0.4003854626789689\n",
            "Training Accuracy    0.9921875\n",
            "\n",
            "Validation Loss      0.3693453371524811\n",
            "Validation Accuracy  0.9776785714285714\n",
            "\n",
            "--Epoch 30:--\n",
            "Training Loss        0.37189521826803684\n",
            "Training Accuracy    0.9931640625\n",
            "\n",
            "Validation Loss      0.3384771943092346\n",
            "Validation Accuracy  1.0\n",
            "\n",
            "--Epoch 31:--\n",
            "Training Loss        0.34549868758767843\n",
            "Training Accuracy    0.994140625\n",
            "\n",
            "Validation Loss      0.3175349831581116\n",
            "Validation Accuracy  0.9776785714285714\n",
            "\n",
            "--Epoch 32:--\n",
            "Training Loss        0.3198705557733774\n",
            "Training Accuracy    0.9970703125\n",
            "\n",
            "Validation Loss      0.28751951456069946\n",
            "Validation Accuracy  1.0\n",
            "\n",
            "--Epoch 33:--\n",
            "Training Loss        0.29768307274207473\n",
            "Training Accuracy    0.99609375\n",
            "\n",
            "Validation Loss      0.263578861951828\n",
            "Validation Accuracy  1.0\n",
            "\n",
            "--Epoch 34:--\n",
            "Training Loss        0.2766790040768683\n",
            "Training Accuracy    0.998046875\n",
            "\n",
            "Validation Loss      0.24417488276958466\n",
            "Validation Accuracy  1.0\n",
            "\n",
            "--Epoch 35:--\n",
            "Training Loss        0.2583400337025523\n",
            "Training Accuracy    0.998046875\n",
            "\n",
            "Validation Loss      0.2264123260974884\n",
            "Validation Accuracy  1.0\n",
            "\n",
            "--Epoch 36:--\n",
            "Training Loss        0.2379493354819715\n",
            "Training Accuracy    0.99609375\n",
            "\n",
            "Validation Loss      0.21549595892429352\n",
            "Validation Accuracy  1.0\n",
            "\n",
            "--Epoch 37:--\n",
            "Training Loss        0.22344211395829916\n",
            "Training Accuracy    0.9970703125\n",
            "\n",
            "Validation Loss      0.19621720910072327\n",
            "Validation Accuracy  1.0\n",
            "\n",
            "--Epoch 38:--\n",
            "Training Loss        0.2071475605480373\n",
            "Training Accuracy    0.998046875\n",
            "\n",
            "Validation Loss      0.18402621150016785\n",
            "Validation Accuracy  1.0\n",
            "\n",
            "--Epoch 39:--\n",
            "Training Loss        0.19324514595791698\n",
            "Training Accuracy    0.9990234375\n",
            "\n",
            "Validation Loss      0.17013335227966309\n",
            "Validation Accuracy  1.0\n",
            "\n",
            "--Epoch 40:--\n",
            "Training Loss        0.18000824330374599\n",
            "Training Accuracy    0.9970703125\n",
            "\n",
            "Validation Loss      0.15711165964603424\n",
            "Validation Accuracy  1.0\n",
            "\n",
            "--Epoch 41:--\n",
            "Training Loss        0.16980703501030803\n",
            "Training Accuracy    0.998046875\n",
            "\n",
            "Validation Loss      0.151901513338089\n",
            "Validation Accuracy  1.0\n",
            "\n",
            "--Epoch 42:--\n",
            "Training Loss        0.15790658653713763\n",
            "Training Accuracy    0.998046875\n",
            "\n",
            "Validation Loss      0.14255070686340332\n",
            "Validation Accuracy  1.0\n",
            "\n",
            "--Epoch 43:--\n",
            "Training Loss        0.14912087423726916\n",
            "Training Accuracy    0.9970703125\n",
            "\n",
            "Validation Loss      0.13041293621063232\n",
            "Validation Accuracy  1.0\n",
            "\n",
            "--Epoch 44:--\n",
            "Training Loss        0.13996899244375527\n",
            "Training Accuracy    0.998046875\n",
            "\n",
            "Validation Loss      0.12540706992149353\n",
            "Validation Accuracy  1.0\n",
            "\n",
            "--Epoch 45:--\n",
            "Training Loss        0.1329562752507627\n",
            "Training Accuracy    0.9970703125\n",
            "\n",
            "Validation Loss      0.11586322635412216\n",
            "Validation Accuracy  1.0\n",
            "\n",
            "--Epoch 46:--\n",
            "Training Loss        0.1255521085113287\n",
            "Training Accuracy    0.9990234375\n",
            "\n",
            "Validation Loss      0.11071089655160904\n",
            "Validation Accuracy  1.0\n",
            "\n",
            "--Epoch 47:--\n",
            "Training Loss        0.12048480194061995\n",
            "Training Accuracy    0.9990234375\n",
            "\n",
            "Validation Loss      0.10545231401920319\n",
            "Validation Accuracy  1.0\n",
            "\n",
            "--Epoch 48:--\n",
            "Training Loss        0.11284629115834832\n",
            "Training Accuracy    0.9990234375\n",
            "\n",
            "Validation Loss      0.09980388730764389\n",
            "Validation Accuracy  1.0\n",
            "\n",
            "--Epoch 49:--\n",
            "Training Loss        0.1083037715870887\n",
            "Training Accuracy    0.998046875\n",
            "\n",
            "Validation Loss      0.09729798883199692\n",
            "Validation Accuracy  1.0\n",
            "\n",
            "--Epoch 50:--\n",
            "Training Loss        0.10446086945012212\n",
            "Training Accuracy    0.998046875\n",
            "\n",
            "Validation Loss      0.09349565953016281\n",
            "Validation Accuracy  1.0\n",
            "\n"
          ]
        }
      ]
    },
    {
      "cell_type": "markdown",
      "source": [
        "## Visualisation"
      ],
      "metadata": {
        "id": "s_recF2zsuhi"
      }
    },
    {
      "cell_type": "code",
      "source": [
        "import pandas as pd\n",
        "\n",
        "epochs = list(range(1, len(losses['train_losses']) + 1))\n",
        "df = pd.DataFrame({\n",
        "    \"Epoch\": epochs * 2,\n",
        "    \"Loss\": losses['train_losses'] + losses[\"dev_losses\"],\n",
        "    \"Type\": [\"Train\"] * len(losses['train_losses'] ) + [\"Dev\"] * len(losses['train_losses'] )\n",
        "})\n",
        "\n",
        "import seaborn as sns\n",
        "import matplotlib.pyplot as plt\n",
        "\n",
        "sns.set(style=\"whitegrid\")\n",
        "plt.figure(figsize=(8, 5))\n",
        "sns.lineplot(data=df, x=\"Epoch\", y=\"Loss\", hue=\"Type\", marker=\"o\")\n",
        "\n",
        "plt.title(\"Training vs Dev Loss\")\n",
        "plt.xlabel(\"Epoch\")\n",
        "plt.ylabel(\"Loss\")\n",
        "plt.legend(title=\"Dataset\")\n",
        "plt.tight_layout()\n",
        "plt.show()"
      ],
      "metadata": {
        "id": "hBzGuqDTaUxu",
        "colab": {
          "base_uri": "https://localhost:8080/",
          "height": 501
        },
        "outputId": "5c733111-3b77-473b-bf31-421106bf221a"
      },
      "execution_count": 82,
      "outputs": [
        {
          "output_type": "display_data",
          "data": {
            "text/plain": [
              "<Figure size 800x500 with 1 Axes>"
            ],
            "image/png": "[encoded data removed]"
          },
          "metadata": {}
        }
      ]
    },
    {
      "cell_type": "code",
      "source": [
        "import pandas as pd\n",
        "\n",
        "epochs = list(range(1, len(losses['train_accuracies']) + 1))\n",
        "df = pd.DataFrame({\n",
        "    \"Epoch\": epochs * 2,\n",
        "    \"Accuracy\": losses['train_accuracies'] + losses[\"dev_accuracies\"],\n",
        "    \"Type\": [\"Train\"] * len(losses['train_accuracies'] ) + [\"Dev\"] * len(losses['train_accuracies'] )\n",
        "})\n",
        "\n",
        "import seaborn as sns\n",
        "import matplotlib.pyplot as plt\n",
        "\n",
        "sns.set(style=\"whitegrid\")\n",
        "plt.figure(figsize=(8, 5))\n",
        "sns.lineplot(data=df, x=\"Epoch\", y=\"Accuracy\", hue=\"Type\", marker=\"o\")\n",
        "\n",
        "plt.title(\"Training vs Dev Accuracy\")\n",
        "plt.xlabel(\"Epoch\")\n",
        "plt.ylabel(\"Accuracy\")\n",
        "plt.legend(title=\"Dataset\")\n",
        "plt.tight_layout()\n",
        "plt.show()\n",
        "\n"
      ],
      "metadata": {
        "colab": {
          "base_uri": "https://localhost:8080/",
          "height": 501
        },
        "id": "SedUyAWresBG",
        "outputId": "36434426-f224-4f6c-f642-652000afd12f"
      },
      "execution_count": 83,
      "outputs": [
        {
          "output_type": "display_data",
          "data": {
            "text/plain": [
              "<Figure size 800x500 with 1 Axes>"
            ],
            "image/png": "[encoded data removed]"
          },
          "metadata": {}
        }
      ]
    },
    {
      "cell_type": "markdown",
      "source": [
        "## Test score"
      ],
      "metadata": {
        "id": "nVzJ1CLDs08D"
      }
    },
    {
      "cell_type": "code",
      "source": [
        "with torch.no_grad():\n",
        "  log_probs = classifier(X_test)\n",
        "  y_pred = torch.argmax(log_probs,dim=1)\n",
        "\n",
        "  loss = loss_fn(log_probs,y_test.long())\n",
        "  accuracy = accuracy_score(y_pred,y_test)\n",
        "\n",
        "  print(f\"{'Test Loss:':<15} {loss.item()}\")\n",
        "  print(f\"{'Test Accuracy:':<15} {accuracy}\")"
      ],
      "metadata": {
        "colab": {
          "base_uri": "https://localhost:8080/"
        },
        "id": "aVPIiIk8spsQ",
        "outputId": "a6a9e2a6-663a-494d-919c-1067814f79e5"
      },
      "execution_count": 84,
      "outputs": [
        {
          "output_type": "stream",
          "name": "stdout",
          "text": [
            "Test Loss:      0.0885494127869606\n",
            "Test Accuracy:  1.0\n"
          ]
        }
      ]
    },
    {
      "cell_type": "markdown",
      "source": [
        "## Inference"
      ],
      "metadata": {
        "id": "PkqJ4dL0dYqw"
      }
    },
    {
      "cell_type": "code",
      "source": [
        "def inference(text:str):\n",
        "  '''\n",
        "  This function will return the language of the text\n",
        "  '''\n",
        "  vect = vectorizer.transform([text])\n",
        "  vect = to_tensor(vect.toarray(),np.float32)\n",
        "  log_probs = classifier(vect)\n",
        "  y_pred = torch.argmax(log_probs,dim=1)\n",
        "  return encoder.inverse_transform(y_pred)"
      ],
      "metadata": {
        "id": "h0J_v5KJd-Bj"
      },
      "execution_count": 85,
      "outputs": []
    },
    {
      "cell_type": "code",
      "source": [
        "fr_text = \"je m'appel Cédric\"\n",
        "en_text = \"my name is Cedric\"\n",
        "\n",
        "\n",
        "print(f\"The language of this text: '{fr_text}' is -> {inference(fr_text)[0]} \")\n",
        "print(f\"The language of this text: '{en_text}' is -> {inference(en_text)[0]} \")"
      ],
      "metadata": {
        "id": "93YAsSirs54E",
        "colab": {
          "base_uri": "https://localhost:8080/"
        },
        "outputId": "8dbc920f-7b20-40d3-fdd6-c5197ea762cf"
      },
      "execution_count": 87,
      "outputs": [
        {
          "output_type": "stream",
          "name": "stdout",
          "text": [
            "The language of this text: 'je m'appel Cédric' is -> FRENCH \n",
            "The language of this text: 'my name is Cedric' is -> ENGLISH \n"
          ]
        }
      ]
    },
    {
      "cell_type": "markdown",
      "source": [
        "## Saving the model to my huggingFace space"
      ],
      "metadata": {
        "id": "zlrEjOwKqk0S"
      }
    },
    {
      "cell_type": "code",
      "source": [
        "# Save the model\n",
        "torch.save(classifier.state_dict(), 'language_classifier.pth')"
      ],
      "metadata": {
        "id": "jYY0nBIUdeZX"
      },
      "execution_count": 62,
      "outputs": []
    },
    {
      "cell_type": "code",
      "source": [
        "!pip install huggingface_hub\n"
      ],
      "metadata": {
        "colab": {
          "base_uri": "https://localhost:8080/"
        },
        "id": "wrWaNwi_fb4O",
        "outputId": "0a9b1b63-6403-4d02-97d8-f7771f5969c7"
      },
      "execution_count": 66,
      "outputs": [
        {
          "output_type": "stream",
          "name": "stdout",
          "text": [
            "Requirement already satisfied: huggingface_hub in /usr/local/lib/python3.11/dist-packages (0.33.0)\n",
            "Requirement already satisfied: filelock in /usr/local/lib/python3.11/dist-packages (from huggingface_hub) (3.18.0)\n",
            "Requirement already satisfied: fsspec>=2023.5.0 in /usr/local/lib/python3.11/dist-packages (from huggingface_hub) (2025.3.2)\n",
            "Requirement already satisfied: packaging>=20.9 in /usr/local/lib/python3.11/dist-packages (from huggingface_hub) (24.2)\n",
            "Requirement already satisfied: pyyaml>=5.1 in /usr/local/lib/python3.11/dist-packages (from huggingface_hub) (6.0.2)\n",
            "Requirement already satisfied: requests in /usr/local/lib/python3.11/dist-packages (from huggingface_hub) (2.32.3)\n",
            "Requirement already satisfied: tqdm>=4.42.1 in /usr/local/lib/python3.11/dist-packages (from huggingface_hub) (4.67.1)\n",
            "Requirement already satisfied: typing-extensions>=3.7.4.3 in /usr/local/lib/python3.11/dist-packages (from huggingface_hub) (4.14.0)\n",
            "Requirement already satisfied: hf-xet<2.0.0,>=1.1.2 in /usr/local/lib/python3.11/dist-packages (from huggingface_hub) (1.1.3)\n",
            "Requirement already satisfied: charset-normalizer<4,>=2 in /usr/local/lib/python3.11/dist-packages (from requests->huggingface_hub) (3.4.2)\n",
            "Requirement already satisfied: idna<4,>=2.5 in /usr/local/lib/python3.11/dist-packages (from requests->huggingface_hub) (3.10)\n",
            "Requirement already satisfied: urllib3<3,>=1.21.1 in /usr/local/lib/python3.11/dist-packages (from requests->huggingface_hub) (2.4.0)\n",
            "Requirement already satisfied: certifi>=2017.4.17 in /usr/local/lib/python3.11/dist-packages (from requests->huggingface_hub) (2025.6.15)\n"
          ]
        }
      ]
    },
    {
      "cell_type": "code",
      "source": [
        "!huggingface-cli login"
      ],
      "metadata": {
        "colab": {
          "base_uri": "https://localhost:8080/"
        },
        "id": "pmKZu3JBfgDa",
        "outputId": "5c8ee53e-15d1-48a9-bbd2-41164fa6a94f"
      },
      "execution_count": 68,
      "outputs": [
        {
          "output_type": "stream",
          "name": "stdout",
          "text": [
            "\n",
            "    _|    _|  _|    _|    _|_|_|    _|_|_|  _|_|_|  _|      _|    _|_|_|      _|_|_|_|    _|_|      _|_|_|  _|_|_|_|\n",
            "    _|    _|  _|    _|  _|        _|          _|    _|_|    _|  _|            _|        _|    _|  _|        _|\n",
            "    _|_|_|_|  _|    _|  _|  _|_|  _|  _|_|    _|    _|  _|  _|  _|  _|_|      _|_|_|    _|_|_|_|  _|        _|_|_|\n",
            "    _|    _|  _|    _|  _|    _|  _|    _|    _|    _|    _|_|  _|    _|      _|        _|    _|  _|        _|\n",
            "    _|    _|    _|_|      _|_|_|    _|_|_|  _|_|_|  _|      _|    _|_|_|      _|        _|    _|    _|_|_|  _|_|_|_|\n",
            "\n",
            "    To log in, `huggingface_hub` requires a token generated from https://huggingface.co/settings/tokens .\n",
            "Enter your token (input will not be visible): \n",
            "Add token as git credential? (Y/n) Y\n",
            "Token is valid (permission: fineGrained).\n",
            "The token `tts-coqui` has been saved to /root/.cache/huggingface/stored_tokens\n",
            "\u001b[1m\u001b[31mCannot authenticate through git-credential as no helper is defined on your machine.\n",
            "You might have to re-authenticate when pushing to the Hugging Face Hub.\n",
            "Run the following command in your terminal in case you want to set the 'store' credential helper as default.\n",
            "\n",
            "git config --global credential.helper store\n",
            "\n",
            "Read https://git-scm.com/book/en/v2/Git-Tools-Credential-Storage for more details.\u001b[0m\n",
            "Token has not been saved to git credential helper.\n",
            "Your token has been saved to /root/.cache/huggingface/token\n",
            "Login successful.\n",
            "The current active token is: `tts-coqui`\n"
          ]
        }
      ]
    },
    {
      "cell_type": "code",
      "source": [
        "from huggingface_hub import HfApi, HfFolder\n",
        "\n",
        "api = HfApi()\n",
        "\n",
        "model_path = \"/content/model/\"\n",
        "\n",
        "\n",
        "from huggingface_hub import HfApi\n",
        "\n",
        "api = HfApi(token=\"YOUR TOKEN\")\n",
        "api.upload_folder(\n",
        "    folder_path=model_path,\n",
        "    repo_id=\"rahim707/language-identification-pytroch\",\n",
        "    repo_type=\"model\",\n",
        ")\n"
      ],
      "metadata": {
        "colab": {
          "base_uri": "https://localhost:8080/",
          "height": 103,
          "referenced_widgets": [
            "0060c00af04542b6b8c9deb77eeb8107",
            "12e5382aad63402b993a293b2b290dbc",
            "f1de1c098136443d9e339d570b48eb91",
            "85ceac9b2a524746ac28d9d6d5b90c1d",
            "05126fdc19cc40dc8bec787a3ecefc95",
            "3bb0cb9558644cf48b982a107f5a7239",
            "20e7e34fb4944e708d2dac22e4db5a03",
            "1e9bd9c7379b45d8917569e865e70438",
            "984acf139d294920ac9ea3dd8c0d6c90",
            "74512f4c96b748e49cb151c6f916829e",
            "5b44c7f8db304916991e331351bb49fa"
          ]
        },
        "id": "4zDJu3YDgWQT",
        "outputId": "34921655-34f9-4dab-bb7e-f3171120d577"
      },
      "execution_count": 76,
      "outputs": [
        {
          "output_type": "display_data",
          "data": {
            "text/plain": [
              "language_classifier.pth:   0%|          | 0.00/339k [00:00<?, ?B/s]"
            ],
            "application/vnd.jupyter.widget-view+json": {
              "version_major": 2,
              "version_minor": 0,
              "model_id": "0060c00af04542b6b8c9deb77eeb8107"
            }
          },
          "metadata": {}
        },
        {
          "output_type": "execute_result",
          "data": {
            "text/plain": [
              "CommitInfo(commit_url='https://huggingface.co/rahim707/language-identification-pytroch/commit/41cb840e10c1f2b915041cd623e4ae32bdac9a2e', commit_message='Upload folder using huggingface_hub', commit_description='', oid='41cb840e10c1f2b915041cd623e4ae32bdac9a2e', pr_url=None, repo_url=RepoUrl('https://huggingface.co/rahim707/language-identification-pytroch', endpoint='https://huggingface.co', repo_type='model', repo_id='rahim707/language-identification-pytroch'), pr_revision=None, pr_num=None)"
            ],
            "application/vnd.google.colaboratory.intrinsic+json": {
              "type": "string"
            }
          },
          "metadata": {},
          "execution_count": 76
        }
      ]
    },
    {
      "cell_type": "code",
      "source": [],
      "metadata": {
        "id": "ab3btQnugqVl"
      },
      "execution_count": null,
      "outputs": []
    }
  ]
}