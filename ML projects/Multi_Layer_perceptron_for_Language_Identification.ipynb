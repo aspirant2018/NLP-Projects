{
  "nbformat": 4,
  "nbformat_minor": 0,
  "metadata": {
    "colab": {
      "provenance": []
    },
    "kernelspec": {
      "name": "python3",
      "display_name": "Python 3"
    },
    "language_info": {
      "name": "python"
    }
  },
  "cells": [
    {
      "cell_type": "markdown",
      "source": [
        "# Building a Multi Layer perceptron for Language Identification"
      ],
      "metadata": {
        "id": "tSu0NvICC5Of"
      }
    },
    {
      "cell_type": "code",
      "execution_count": 1,
      "metadata": {
        "colab": {
          "base_uri": "https://localhost:8080/"
        },
        "id": "7WO3ilxQC1p5",
        "outputId": "355c8572-fe2b-4c3a-80d3-3dc633ceaa16"
      },
      "outputs": [
        {
          "output_type": "execute_result",
          "data": {
            "text/plain": [
              "<torch._C.Generator at 0x7f9fbc1b11f0>"
            ]
          },
          "metadata": {},
          "execution_count": 1
        }
      ],
      "source": [
        "# Dependencies\n",
        "import torch\n",
        "import torch.nn as nn\n",
        "import torch.nn.functional as F\n",
        "import torch.optim as optim # for the optimizers (SDG, Adam ...)\n",
        "\n",
        "from random import shuffle\n",
        "\n",
        "torch.manual_seed(1) # Sets the seed for generating random numbers on all devices. Returns a torch.Generator object."
      ]
    },
    {
      "cell_type": "markdown",
      "source": [
        "## Defining The Network"
      ],
      "metadata": {
        "id": "X5vtXz5XEO3b"
      }
    },
    {
      "cell_type": "code",
      "source": [
        "from pydantic import Field\n",
        "\n",
        "\n",
        "class LanguageClassifier(nn.Module):\n",
        "  def __init__(self,\n",
        "               input_size = Field(..., description=\"The vocabulary size\"),\n",
        "               hidden_size= Field(..., description=\"The Hidden size\"),\n",
        "               output_size= Field(..., description=\"The number of classes here, languages\")\n",
        "               ):\n",
        "\n",
        "    super(LanguageClassifier, self).__init__()\n",
        "\n",
        "    self.input_size  = input_size\n",
        "    self.hidden_size = hidden_size\n",
        "    self.output_size = output_size\n",
        "\n",
        "\n",
        "    # Linear Layer : Wc + b\n",
        "    self.linear1 = nn.Linear(self.input_size, self.hidden_size)\n",
        "    self.linear2 = nn.Linear(self.hidden_size, self.output_size)\n",
        "\n",
        "\n",
        "  def forward(self,X):\n",
        "    \"\"\"\n",
        "      args:\n",
        "          X:     [batch x input_size]\n",
        "        output:\n",
        "          probs: [batch x output_size]\n",
        "\n",
        "    \"\"\"\n",
        "\n",
        "\n",
        "    if X.shape[1] != self.input_size:\n",
        "      raise Exception(f\"Input size does not match! The input size of the Batch {X.shape[1]} must match the input size of the Network {self.input_size}\")\n",
        "\n",
        "\n",
        "    X = self.linear1(X)   # 1st hidden layer\n",
        "    X = F.sigmoid(X)      # Sigmoid Activation Function\n",
        "    X = self.linear2(X)   # 2nd Hidden Layer\n",
        "\n",
        "    log_probs = F.log_softmax(X,dim=1) # [b x output_size]\n",
        "\n",
        "    return log_probs\n",
        "\n",
        "\n"
      ],
      "metadata": {
        "id": "f--DwvmDDQOe"
      },
      "execution_count": 2,
      "outputs": []
    },
    {
      "cell_type": "code",
      "source": [
        "# Testing my Network\n",
        "\n",
        "tests =  [(10,100),(50,1000)]\n",
        "\n",
        "classifier = LanguageClassifier(100, 80, 10)\n",
        "for test in tests:\n",
        "\n",
        "  print(f\"Testing with batch size {test[0]} and input size {test[1]}\")\n",
        "\n",
        "  batch_size = test[0]\n",
        "  input_size = test[1]\n",
        "\n",
        "  x = torch.randn(batch_size, input_size)\n",
        "  try:\n",
        "    classifier(x)\n",
        "  except Exception as e:\n",
        "    print(f\"{e}\")\n"
      ],
      "metadata": {
        "colab": {
          "base_uri": "https://localhost:8080/"
        },
        "id": "hxdvQ-CoFatV",
        "outputId": "306e19ae-119a-4031-beb9-e032b13b2bd9"
      },
      "execution_count": 3,
      "outputs": [
        {
          "output_type": "stream",
          "name": "stdout",
          "text": [
            "Testing with batch size 10 and input size 100\n",
            "Testing with batch size 50 and input size 1000\n",
            "Input size does not match! The input size of the Batch 1000 must match the input size of the Network 100\n"
          ]
        }
      ]
    },
    {
      "cell_type": "code",
      "source": [
        "x = torch.randn(100, 10)\n",
        "F.softmax(x,dim=1).shape"
      ],
      "metadata": {
        "colab": {
          "base_uri": "https://localhost:8080/"
        },
        "id": "0RFAbwygFeGA",
        "outputId": "9a822a75-b287-437b-92f9-d2406b58c3b9"
      },
      "execution_count": 4,
      "outputs": [
        {
          "output_type": "execute_result",
          "data": {
            "text/plain": [
              "torch.Size([100, 10])"
            ]
          },
          "metadata": {},
          "execution_count": 4
        }
      ]
    },
    {
      "cell_type": "markdown",
      "source": [
        "## CountVectorizer (my implementation)"
      ],
      "metadata": {
        "id": "Fh3UPahPTmEw"
      }
    },
    {
      "cell_type": "code",
      "source": [
        "# Toy Data\n",
        "\n",
        "train_examples = [(\"me gusta comer en la cafeteria\", \"SPANISH\"),\n",
        "                  (\"Give it to me\", \"ENGLISH\"),\n",
        "                  (\"No creo que sea una buena idea\", \"SPANISH\"),\n",
        "                  (\"No it is not a good idea to get lost at sea\", \"ENGLISH\")]\n",
        "\n",
        "test_examples = [(\"Yo creo que si\", \"SPANISH\"),\n",
        "                 (\"it is lost on me\", \"ENGLISH\")]"
      ],
      "metadata": {
        "id": "yeSRV9ZBHreY"
      },
      "execution_count": 5,
      "outputs": []
    },
    {
      "cell_type": "code",
      "source": [
        "train_examples"
      ],
      "metadata": {
        "colab": {
          "base_uri": "https://localhost:8080/"
        },
        "id": "pXVzEBzE6peF",
        "outputId": "6fe0dfdd-d92e-4a33-e964-7f142e9517a9"
      },
      "execution_count": 6,
      "outputs": [
        {
          "output_type": "execute_result",
          "data": {
            "text/plain": [
              "[('me gusta comer en la cafeteria', 'SPANISH'),\n",
              " ('Give it to me', 'ENGLISH'),\n",
              " ('No creo que sea una buena idea', 'SPANISH'),\n",
              " ('No it is not a good idea to get lost at sea', 'ENGLISH')]"
            ]
          },
          "metadata": {},
          "execution_count": 6
        }
      ]
    },
    {
      "cell_type": "code",
      "source": [
        "from sklearn.feature_extraction.text import TfidfVectorizer\n",
        "from sklearn.preprocessing import LabelEncoder\n",
        "\n",
        "from torch import Tensor\n",
        "import numpy as np\n",
        "\n",
        "\n",
        "vectorizer = TfidfVectorizer(analyzer=\"word\")\n",
        "encoder = LabelEncoder()\n",
        "\n",
        "\n",
        "\n",
        "train_set = [x[0] for x in train_examples]\n",
        "test_set  = [x[0] for x in test_examples]\n",
        "\n",
        "y_train = [x[1] for x in train_examples]\n",
        "y_test  = [x[1] for x in test_examples]\n",
        "\n",
        "\n",
        "X_train = vectorizer.fit_transform(train_set)\n",
        "X_test  = vectorizer.transform(test_set)\n",
        "\n",
        "y_train = encoder.fit_transform(y_train)\n",
        "y_test  = encoder.transform(y_test)\n",
        "\n",
        "\n",
        "def to_tensor(A: np.ndarray, dtype: np.dtype) -> Tensor:\n",
        "    if not isinstance(A, np.ndarray):\n",
        "        raise TypeError(f\"Expected np.ndarray, got {type(A)}\")\n",
        "    return torch.from_numpy(A.astype(dtype))\n",
        "\n",
        "\n",
        "X_train = to_tensor(X_train.toarray(),np.float32)\n",
        "X_test  = to_tensor(X_test.toarray() ,np.float32)\n",
        "\n",
        "y_train = to_tensor(y_train, np.int16)\n",
        "y_test  = to_tensor(y_test, np.int16)\n",
        "\n",
        "\n",
        "print(X_train.shape)\n",
        "print(X_test.shape)\n",
        "\n",
        "print(y_train.shape)\n",
        "print(y_test.shape)\n",
        "\n",
        "\n",
        "\n",
        "print(len(encoder.classes_))\n",
        "\n"
      ],
      "metadata": {
        "colab": {
          "base_uri": "https://localhost:8080/"
        },
        "id": "nsn3696z6c3r",
        "outputId": "d81c623a-ab9a-4b2e-d500-851c4b57f32a"
      },
      "execution_count": 7,
      "outputs": [
        {
          "output_type": "stream",
          "name": "stdout",
          "text": [
            "torch.Size([4, 22])\n",
            "torch.Size([2, 22])\n",
            "torch.Size([4])\n",
            "torch.Size([2])\n",
            "2\n"
          ]
        }
      ]
    },
    {
      "cell_type": "markdown",
      "source": [
        " ## Forward propagation (with random parameters)\n"
      ],
      "metadata": {
        "id": "exljAoE9mewp"
      }
    },
    {
      "cell_type": "code",
      "source": [
        "classifier = LanguageClassifier(input_size=X_train.shape[1], hidden_size=20, output_size=len(encoder.classes_))\n",
        "\n",
        "#  Test of forward propagation (with random parameters)\n",
        "\n",
        "with torch.no_grad():\n",
        "\n",
        "  log_probs = classifier(X_test)\n",
        "  print(\"Log probabilities on test after training:\")\n",
        "  print(log_probs)\n",
        "\n",
        "  y_pred = torch.argmax(log_probs,dim=1)\n",
        "  print(\"Predicted classes: \",encoder.inverse_transform(y_pred))\n",
        "  print(\"Gold classes: \",encoder.inverse_transform(y_test))"
      ],
      "metadata": {
        "colab": {
          "base_uri": "https://localhost:8080/"
        },
        "id": "kwue7NSG6kh0",
        "outputId": "62dd2c7e-aa14-4bb6-e00b-df244afb2fd2"
      },
      "execution_count": 8,
      "outputs": [
        {
          "output_type": "stream",
          "name": "stdout",
          "text": [
            "Log probabilities on test after training:\n",
            "tensor([[-1.0401, -0.4360],\n",
            "        [-1.0011, -0.4581]])\n",
            "Predicted classes:  ['SPANISH' 'SPANISH']\n",
            "Gold classes:  ['SPANISH' 'ENGLISH']\n"
          ]
        }
      ]
    },
    {
      "cell_type": "code",
      "source": [
        "print(encoder.inverse_transform(y_pred))"
      ],
      "metadata": {
        "colab": {
          "base_uri": "https://localhost:8080/"
        },
        "id": "H3gEnIsofUCv",
        "outputId": "456d510b-f537-412a-ef9f-7ac01bbd7956"
      },
      "execution_count": 9,
      "outputs": [
        {
          "output_type": "stream",
          "name": "stdout",
          "text": [
            "['SPANISH' 'SPANISH']\n"
          ]
        }
      ]
    },
    {
      "cell_type": "code",
      "source": [
        "print(y_train)"
      ],
      "metadata": {
        "colab": {
          "base_uri": "https://localhost:8080/"
        },
        "id": "IYu8psOza4DU",
        "outputId": "a85a6360-305e-401c-9a03-dceb87f03b4a"
      },
      "execution_count": 10,
      "outputs": [
        {
          "output_type": "stream",
          "name": "stdout",
          "text": [
            "tensor([1, 0, 1, 0], dtype=torch.int16)\n"
          ]
        }
      ]
    },
    {
      "cell_type": "code",
      "source": [
        "# Negative Log Likelihood loss function\n",
        "loss_fn = nn.NLLLoss()\n",
        "# The Gradient descent algorithm function\n",
        "optimizer = optim.SGD(classifier.parameters(),lr=0.1)\n",
        "\n",
        "\n",
        "epochs = 20\n",
        "print(\"Training Phase\\n\")\n",
        "for epoch in range(epochs):\n",
        "  print(f\"--Epoch {epoch+1}:--\")\n",
        "\n",
        "\n",
        "  # Shuffling\n",
        "  indices = torch.randperm(X_train.size(0))\n",
        "  X_train = X_train[indices]\n",
        "  y_train = y_train[indices]\n",
        "\n",
        "\n",
        "  # (re)sets all parameter gradients to 0\n",
        "  classifier.zero_grad()\n",
        "\n",
        "  print(\"Forward Propagation\")\n",
        "  log_probs = classifier(X_train)\n",
        "  y_pred = torch.argmax(log_probs,dim=1)\n",
        "\n",
        "  print(f\"Gold classes: {y_train}\")\n",
        "  print(f\"Predicted classes: {y_pred}\")\n",
        "\n",
        "  loss = loss_fn(log_probs,y_train.long())\n",
        "\n",
        "  print(f\"Loss: {loss}\")\n",
        "  loss.backward()\n",
        "\n",
        "  optimizer.step()\n",
        "\n",
        "\n",
        "print()\n",
        "print(\"Prediction Phase\\n\")\n",
        "with torch.no_grad():\n",
        "  log_probs = classifier(X_test)\n",
        "\n",
        "  y_pred = torch.argmax(log_probs,dim=1)\n",
        "  print(\"Predicted classes: \",encoder.inverse_transform(y_pred))\n",
        "  print(\"Gold classes: \",encoder.inverse_transform(y_test))\n",
        "\n",
        "\n",
        "\n",
        "\n",
        "\n",
        "\n",
        "\n"
      ],
      "metadata": {
        "id": "4LAXGLIKf9v1",
        "colab": {
          "base_uri": "https://localhost:8080/"
        },
        "outputId": "0cf4c1c7-fb88-43a9-c795-27d53ede8a4e"
      },
      "execution_count": 11,
      "outputs": [
        {
          "output_type": "stream",
          "name": "stdout",
          "text": [
            "Training Phase\n",
            "\n",
            "--Epoch 1:--\n",
            "Forward Propagation\n",
            "Gold classes: tensor([0, 0, 1, 1], dtype=torch.int16)\n",
            "Predicted classes: tensor([1, 1, 1, 1])\n",
            "Loss: 0.7283799052238464\n",
            "--Epoch 2:--\n",
            "Forward Propagation\n",
            "Gold classes: tensor([1, 0, 0, 1], dtype=torch.int16)\n",
            "Predicted classes: tensor([1, 1, 1, 1])\n",
            "Loss: 0.7066543102264404\n",
            "--Epoch 3:--\n",
            "Forward Propagation\n",
            "Gold classes: tensor([1, 1, 0, 0], dtype=torch.int16)\n",
            "Predicted classes: tensor([1, 1, 1, 1])\n",
            "Loss: 0.695549726486206\n",
            "--Epoch 4:--\n",
            "Forward Propagation\n",
            "Gold classes: tensor([1, 0, 0, 1], dtype=torch.int16)\n",
            "Predicted classes: tensor([1, 1, 1, 1])\n",
            "Loss: 0.6898648738861084\n",
            "--Epoch 5:--\n",
            "Forward Propagation\n",
            "Gold classes: tensor([1, 1, 0, 0], dtype=torch.int16)\n",
            "Predicted classes: tensor([1, 1, 1, 1])\n",
            "Loss: 0.6868504285812378\n",
            "--Epoch 6:--\n",
            "Forward Propagation\n",
            "Gold classes: tensor([1, 0, 1, 0], dtype=torch.int16)\n",
            "Predicted classes: tensor([1, 1, 1, 1])\n",
            "Loss: 0.6851279139518738\n",
            "--Epoch 7:--\n",
            "Forward Propagation\n",
            "Gold classes: tensor([0, 0, 1, 1], dtype=torch.int16)\n",
            "Predicted classes: tensor([1, 1, 1, 1])\n",
            "Loss: 0.6840242147445679\n",
            "--Epoch 8:--\n",
            "Forward Propagation\n",
            "Gold classes: tensor([0, 1, 1, 0], dtype=torch.int16)\n",
            "Predicted classes: tensor([1, 1, 1, 1])\n",
            "Loss: 0.6832150816917419\n",
            "--Epoch 9:--\n",
            "Forward Propagation\n",
            "Gold classes: tensor([1, 0, 0, 1], dtype=torch.int16)\n",
            "Predicted classes: tensor([1, 0, 1, 1])\n",
            "Loss: 0.6825451850891113\n",
            "--Epoch 10:--\n",
            "Forward Propagation\n",
            "Gold classes: tensor([0, 1, 1, 0], dtype=torch.int16)\n",
            "Predicted classes: tensor([0, 1, 1, 1])\n",
            "Loss: 0.6819403171539307\n",
            "--Epoch 11:--\n",
            "Forward Propagation\n",
            "Gold classes: tensor([0, 1, 1, 0], dtype=torch.int16)\n",
            "Predicted classes: tensor([1, 1, 1, 0])\n",
            "Loss: 0.681364893913269\n",
            "--Epoch 12:--\n",
            "Forward Propagation\n",
            "Gold classes: tensor([0, 0, 1, 1], dtype=torch.int16)\n",
            "Predicted classes: tensor([1, 0, 1, 1])\n",
            "Loss: 0.6808022260665894\n",
            "--Epoch 13:--\n",
            "Forward Propagation\n",
            "Gold classes: tensor([1, 0, 0, 1], dtype=torch.int16)\n",
            "Predicted classes: tensor([1, 1, 0, 1])\n",
            "Loss: 0.680243968963623\n",
            "--Epoch 14:--\n",
            "Forward Propagation\n",
            "Gold classes: tensor([1, 0, 1, 0], dtype=torch.int16)\n",
            "Predicted classes: tensor([1, 0, 1, 1])\n",
            "Loss: 0.6796863079071045\n",
            "--Epoch 15:--\n",
            "Forward Propagation\n",
            "Gold classes: tensor([0, 1, 0, 1], dtype=torch.int16)\n",
            "Predicted classes: tensor([1, 1, 0, 1])\n",
            "Loss: 0.6791272759437561\n",
            "--Epoch 16:--\n",
            "Forward Propagation\n",
            "Gold classes: tensor([0, 1, 1, 0], dtype=torch.int16)\n",
            "Predicted classes: tensor([1, 1, 1, 0])\n",
            "Loss: 0.6785658001899719\n",
            "--Epoch 17:--\n",
            "Forward Propagation\n",
            "Gold classes: tensor([1, 1, 0, 0], dtype=torch.int16)\n",
            "Predicted classes: tensor([1, 1, 0, 1])\n",
            "Loss: 0.6780014038085938\n",
            "--Epoch 18:--\n",
            "Forward Propagation\n",
            "Gold classes: tensor([1, 0, 1, 0], dtype=torch.int16)\n",
            "Predicted classes: tensor([1, 0, 1, 0])\n",
            "Loss: 0.6774337291717529\n",
            "--Epoch 19:--\n",
            "Forward Propagation\n",
            "Gold classes: tensor([0, 1, 1, 0], dtype=torch.int16)\n",
            "Predicted classes: tensor([0, 1, 1, 0])\n",
            "Loss: 0.6768625378608704\n",
            "--Epoch 20:--\n",
            "Forward Propagation\n",
            "Gold classes: tensor([0, 1, 0, 1], dtype=torch.int16)\n",
            "Predicted classes: tensor([0, 1, 0, 1])\n",
            "Loss: 0.6762877702713013\n",
            "\n",
            "Prediction Phase\n",
            "\n",
            "Predicted classes:  ['SPANISH' 'ENGLISH']\n",
            "Gold classes:  ['SPANISH' 'ENGLISH']\n"
          ]
        }
      ]
    },
    {
      "cell_type": "code",
      "source": [],
      "metadata": {
        "id": "fA5j5m3hPsrb"
      },
      "execution_count": 11,
      "outputs": []
    },
    {
      "cell_type": "markdown",
      "source": [
        "# Language Identification"
      ],
      "metadata": {
        "id": "30LNfccAejhm"
      }
    },
    {
      "cell_type": "markdown",
      "source": [
        "## Fetching The Data"
      ],
      "metadata": {
        "id": "wXsjSm6aewPM"
      }
    },
    {
      "cell_type": "code",
      "source": [
        "data_dir = './lang_identification_toy_dataset-ep-en-fr/'\n",
        "\n",
        "import os\n",
        "\n",
        "if not os.path.exists(data_dir):\n",
        "  # shell commands can be run using !\n",
        "  !pip install wget\n",
        "  import wget\n",
        "\n",
        "  # The URL for the dataset zip file.\n",
        "  url = 'http://www.linguist.univ-paris-diderot.fr/~mcandito/divers/lang_identification_toy_dataset-ep-en-fr.tgz'\n",
        "\n",
        "\n",
        "  if not os.path.exists('./lang_identification_toy_dataset-ep-en-fr.tgz'):\n",
        "    print('Downloading dataset')\n",
        "    wget.download(url, './lang_identification_toy_dataset-ep-en-fr.tgz')\n",
        "    !tar zxf lang_identification_toy_dataset-ep-en-fr.tgz"
      ],
      "metadata": {
        "colab": {
          "base_uri": "https://localhost:8080/"
        },
        "id": "-XHyEkcWelTP",
        "outputId": "33570cd2-62c4-4dbb-fd54-22a4c90b72d5"
      },
      "execution_count": 12,
      "outputs": [
        {
          "output_type": "stream",
          "name": "stdout",
          "text": [
            "Collecting wget\n",
            "  Downloading wget-3.2.zip (10 kB)\n",
            "  Preparing metadata (setup.py) ... \u001b[?25l\u001b[?25hdone\n",
            "Building wheels for collected packages: wget\n",
            "  Building wheel for wget (setup.py) ... \u001b[?25l\u001b[?25hdone\n",
            "  Created wheel for wget: filename=wget-3.2-py3-none-any.whl size=9655 sha256=c88b07c5d9a84532c1f21cf36ddc0f2358ea76f42b0f5519e2e3976ef3713527\n",
            "  Stored in directory: /root/.cache/pip/wheels/40/b3/0f/a40dbd1c6861731779f62cc4babcb234387e11d697df70ee97\n",
            "Successfully built wget\n",
            "Installing collected packages: wget\n",
            "Successfully installed wget-3.2\n",
            "Downloading dataset\n"
          ]
        }
      ]
    },
    {
      "cell_type": "code",
      "source": [
        "# The data files\n",
        "!dir lang_identification_toy_dataset-ep-en-fr/"
      ],
      "metadata": {
        "colab": {
          "base_uri": "https://localhost:8080/"
        },
        "id": "9G28EzOQfAS6",
        "outputId": "0ab76f3e-12e2-4fbb-beb4-8936ea3ea57a"
      },
      "execution_count": 13,
      "outputs": [
        {
          "output_type": "stream",
          "name": "stdout",
          "text": [
            "ep-en.tok.dev\tep-en.tok.train  ep-fr.tok.test\n",
            "ep-en.tok.test\tep-fr.tok.dev\t ep-fr.tok.train\n"
          ]
        }
      ]
    },
    {
      "cell_type": "markdown",
      "source": [
        "## Preprocessing:"
      ],
      "metadata": {
        "id": "d7RSTRCyt2cy"
      }
    },
    {
      "cell_type": "code",
      "source": [
        "import os\n",
        "from pathlib import Path\n",
        "\n",
        "class preprocessing:\n",
        "\n",
        "  '''\n",
        "  This class will return n lists\n",
        "  The training dataset (list of tuple)\n",
        "  The test dataset (list of tuple)\n",
        "  '''\n",
        "  def __init__(self,data_dir):\n",
        "    self.data_dir = data_dir\n",
        "\n",
        "    self.train_files = []\n",
        "    self.test_files  = []\n",
        "    self.dev_files   = []\n",
        "\n",
        "    self.separate_sets()\n",
        "\n",
        "\n",
        "  def separate_sets(self):\n",
        "    for file in os.listdir(self.data_dir):\n",
        "      if file.endswith(\".train\"):\n",
        "        self.train_files.append(file)\n",
        "      elif file.endswith(\".test\"):\n",
        "        self.test_files.append(file)\n",
        "      elif file.endswith(\".dev\"):\n",
        "        self.dev_files.append(file)\n",
        "      else:\n",
        "        continue\n",
        "\n",
        "\n",
        "\n",
        "  def read_file(self,filepath):\n",
        "    with open(self.data_dir+filepath,'r',encoding='utf-8') as f:\n",
        "      return f.readlines()\n",
        "\n",
        "\n",
        "  def create_set(self,type_files:list):\n",
        "    all_examples = []\n",
        "\n",
        "    for file in type_files:\n",
        "        if 'en' in file:\n",
        "            result = [(line.strip(), 'ENGLISH') for line in self.read_file(file)]\n",
        "        elif 'fr' in file:\n",
        "            result = [(line.strip(), 'FRENCH') for line in self.read_file(file)]\n",
        "        else:\n",
        "            result = [(line.strip(), 'SPANISH') for line in self.read_file(file)]\n",
        "        all_examples.extend(result)\n",
        "\n",
        "    return all_examples\n",
        "\n",
        "\n",
        "\n"
      ],
      "metadata": {
        "id": "vYJAnOC_fC_D"
      },
      "execution_count": 14,
      "outputs": []
    },
    {
      "cell_type": "code",
      "source": [
        "pre = preprocessing(data_dir)\n",
        "\n",
        "train_examples = pre.create_set(pre.train_files)\n",
        "test_examples  = pre.create_set(pre.test_files)\n",
        "dev_examples   = pre.create_set(pre.dev_files)\n",
        "\n",
        "\n",
        "print(\"sample of train examples:\" , train_examples[0])\n",
        "print(\"sample of test  examples:\" , test_examples[0])\n",
        "print(\"sample of dev   examples:\" , dev_examples[0])\n",
        "\n",
        "print()\n",
        "\n",
        "print(\"size train examples:\",len(train_examples))\n",
        "print(\"size test  examples:\",len(test_examples))\n",
        "print(\"size dev   examples:\",len(dev_examples))"
      ],
      "metadata": {
        "colab": {
          "base_uri": "https://localhost:8080/"
        },
        "id": "DOc-77H2f1iK",
        "outputId": "d737cdd3-781b-4101-b913-cdcbfcd2dee5"
      },
      "execution_count": 15,
      "outputs": [
        {
          "output_type": "stream",
          "name": "stdout",
          "text": [
            "sample of train examples: ('Resumption of the session', 'ENGLISH')\n",
            "sample of test  examples: (\"Le rapport sur l' Ancienne république yougoslave de Macédoine salue ce qui a été réalisé par la mise en œuvre de l' accord-cadre d' Okhrid , qui traite l' aspect politique des relations interethniques .\", 'FRENCH')\n",
            "sample of dev   examples: (\"Cette nouvelle république n' a pas encore appris les pratiques diplomatiques européennes , ayant placé ses espoirs sur l' adhésion à l' OTAN , simplement à cause de promesses des États-Unis et d' espoirs infantiles et malavisés de libération de l' esclavage .\", 'FRENCH')\n",
            "\n",
            "size train examples: 1000\n",
            "size test  examples: 200\n",
            "size dev   examples: 200\n"
          ]
        }
      ]
    },
    {
      "cell_type": "code",
      "source": [
        "from sklearn.feature_extraction.text import TfidfVectorizer\n",
        "from sklearn.preprocessing import LabelEncoder\n",
        "\n",
        "from torch import Tensor\n",
        "import numpy as np\n",
        "\n",
        "\n",
        "vectorizer = TfidfVectorizer(analyzer=\"word\")\n",
        "encoder = LabelEncoder()\n",
        "\n",
        "\n",
        "\n",
        "train_set = [x[0] for x in train_examples]\n",
        "test_set  = [x[0] for x in test_examples]\n",
        "dev_set   = [x[0] for x in dev_examples]\n",
        "\n",
        "y_train = [x[1] for x in train_examples]\n",
        "y_test  = [x[1] for x in test_examples]\n",
        "y_dev   = [x[1] for x in dev_examples]\n",
        "\n",
        "\n",
        "X_train = vectorizer.fit_transform(train_set)\n",
        "X_test  = vectorizer.transform(test_set)\n",
        "X_dev   = vectorizer.transform(dev_set)\n",
        "\n",
        "y_train = encoder.fit_transform(y_train)\n",
        "y_test  = encoder.transform(y_test)\n",
        "y_dev   = encoder.transform(y_dev)\n",
        "\n",
        "\n",
        "def to_tensor(A: np.ndarray, dtype: np.dtype) -> Tensor:\n",
        "    if not isinstance(A, np.ndarray):\n",
        "        raise TypeError(f\"Expected np.ndarray, got {type(A)}\")\n",
        "    return torch.from_numpy(A.astype(dtype))\n",
        "\n",
        "\n",
        "X_train = to_tensor(X_train.toarray(),np.float32)\n",
        "X_test  = to_tensor(X_test.toarray() ,np.float32)\n",
        "X_dev   = to_tensor(X_dev.toarray()  ,np.float32)\n",
        "\n",
        "y_train = to_tensor(y_train, np.int16)\n",
        "y_test  = to_tensor(y_test, np.int16)\n",
        "y_dev   = to_tensor(y_dev, np.int16)\n",
        "\n",
        "\n",
        "print(X_train.shape)\n",
        "print(X_test.shape)\n",
        "print(X_dev.shape)\n",
        "\n",
        "print(y_train.shape)\n",
        "print(y_test.shape)\n",
        "print(y_dev.shape)\n",
        "\n",
        "print(len(encoder.classes_))"
      ],
      "metadata": {
        "colab": {
          "base_uri": "https://localhost:8080/"
        },
        "id": "bzW-D4C4f3wV",
        "outputId": "0c60a201-7be3-452d-e350-d9f8975695ee"
      },
      "execution_count": 16,
      "outputs": [
        {
          "output_type": "stream",
          "name": "stdout",
          "text": [
            "torch.Size([1000, 4204])\n",
            "torch.Size([200, 4204])\n",
            "torch.Size([200, 4204])\n",
            "torch.Size([1000])\n",
            "torch.Size([200])\n",
            "torch.Size([200])\n",
            "2\n"
          ]
        }
      ]
    },
    {
      "cell_type": "code",
      "source": [
        "from torch.utils.data import DataLoader, TensorDataset\n",
        "\n",
        "classifier = LanguageClassifier(input_size=X_train.shape[1], hidden_size=20, output_size=len(encoder.classes_))\n",
        "\n",
        "def training(epochs:int,\n",
        "             batch_size:int,\n",
        "             classifier:LanguageClassifier,\n",
        "             X_train:Tensor,\n",
        "             y_train:Tensor,\n",
        "             X_dev:Tensor,\n",
        "             y_dev:Tensor\n",
        "             ):\n",
        "  '''\n",
        "  Training loop\n",
        "  args:\n",
        "    epochs: number of epochs\n",
        "    batch_size: batch size\n",
        "  '''\n",
        "\n",
        "  train_dataset = TensorDataset(X_train, y_train) # Combine features and labels into a dataset\n",
        "  train_loader  = DataLoader(train_dataset, batch_size=batch_size, shuffle=True)   # Create a DataLoader for batching and shuffling\n",
        "  dev_loader    = DataLoader(TensorDataset(X_dev, y_dev), batch_size=batch_size, shuffle=False)\n",
        "\n",
        "\n",
        "\n",
        "  loss_fn = nn.NLLLoss()                                  # Negative Log Likelihood loss function\n",
        "  optimizer = optim.SGD(classifier.parameters(),lr=0.1)   # The Gradient descent algorithm function\n",
        "\n",
        "\n",
        "  # Training Phase\n",
        "  train_losses = []\n",
        "  dev_losses   = []\n",
        "\n",
        "  print(\"Training Phase\\n\")\n",
        "\n",
        "  for epoch in range(epochs):\n",
        "\n",
        "    print(f\"--Epoch {epoch+1}:--\")\n",
        "    classifier.train()\n",
        "\n",
        "    batch_loss = []\n",
        "    for x_batch, y_batch in train_loader:\n",
        "\n",
        "        classifier.zero_grad() # (re)sets all parameter gradients to 0\n",
        "\n",
        "        # Forward Propagation\n",
        "        log_probs = classifier(x_batch)\n",
        "        y_pred    = torch.argmax(log_probs,dim=1)\n",
        "        loss      = loss_fn(log_probs,y_batch.long())\n",
        "\n",
        "        # Compute the loss of the i-th batch\n",
        "        batch_loss.append(loss.item())\n",
        "\n",
        "        # Back Propagation\n",
        "        loss.backward()\n",
        "        optimizer.step()\n",
        "\n",
        "    # End of Batch loop\n",
        "    print(f\"{'Training Loss':<20} {sum(batch_loss)/len(batch_loss)}\")\n",
        "    train_losses.append(sum(batch_loss)/len(batch_loss))\n",
        "\n",
        "\n",
        "    classifier.eval()\n",
        "\n",
        "    batch_loss = []\n",
        "    with torch.no_grad():\n",
        "\n",
        "      for x_dev_batch, y_dev_batch in dev_loader:\n",
        "          log_probs = classifier(x_dev_batch)\n",
        "          y_pred = torch.argmax(log_probs,dim=1)\n",
        "          loss = loss_fn(log_probs,y_dev_batch.long())\n",
        "          batch_loss.append(loss)\n",
        "\n",
        "    print(f\"{'Validation Loss':<20} {sum(batch_loss)/len(batch_loss)}\")\n",
        "    print()\n",
        "    dev_losses.append((sum(batch_loss)/len(batch_loss)).item())\n",
        "\n",
        "  return {\n",
        "    \"train_losses\": train_losses,\n",
        "    \"dev_losses\": dev_losses,\n",
        "    }\n"
      ],
      "metadata": {
        "id": "8mLLcKOgqDmG"
      },
      "execution_count": 92,
      "outputs": []
    },
    {
      "cell_type": "code",
      "source": [
        "losses = training(epochs=100,\n",
        "                                    batch_size=32,\n",
        "                                    classifier=classifier,\n",
        "                                    X_train=X_train,\n",
        "                                    y_train=y_train,\n",
        "                                    X_dev=X_dev,\n",
        "                                    y_dev=y_dev\n",
        "                                    )"
      ],
      "metadata": {
        "colab": {
          "base_uri": "https://localhost:8080/"
        },
        "id": "i1Wg3XLfWKU_",
        "outputId": "3dee7e54-2fc8-4025-9488-b6f51470db3a"
      },
      "execution_count": 93,
      "outputs": [
        {
          "output_type": "stream",
          "name": "stdout",
          "text": [
            "Training Phase\n",
            "\n",
            "--Epoch 1:--\n",
            "Training Loss        0.6979603841900826\n",
            "Validation Loss      0.6873841881752014\n",
            "\n",
            "--Epoch 2:--\n",
            "Training Loss        0.6940223425626755\n",
            "Validation Loss      0.6864941716194153\n",
            "\n",
            "--Epoch 3:--\n",
            "Training Loss        0.6940965410321951\n",
            "Validation Loss      0.7092852592468262\n",
            "\n",
            "--Epoch 4:--\n",
            "Training Loss        0.6934899501502514\n",
            "Validation Loss      0.7275482416152954\n",
            "\n",
            "--Epoch 5:--\n",
            "Training Loss        0.6921533532440662\n",
            "Validation Loss      0.6852025985717773\n",
            "\n",
            "--Epoch 6:--\n",
            "Training Loss        0.6924932226538658\n",
            "Validation Loss      0.6847612261772156\n",
            "\n",
            "--Epoch 7:--\n",
            "Training Loss        0.691999239847064\n",
            "Validation Loss      0.6878184676170349\n",
            "\n",
            "--Epoch 8:--\n",
            "Training Loss        0.6874970812350512\n",
            "Validation Loss      0.6971451640129089\n",
            "\n",
            "--Epoch 9:--\n",
            "Training Loss        0.6895400788635015\n",
            "Validation Loss      0.6936476826667786\n",
            "\n",
            "--Epoch 10:--\n",
            "Training Loss        0.6863024588674307\n",
            "Validation Loss      0.6763167381286621\n",
            "\n",
            "--Epoch 11:--\n",
            "Training Loss        0.6828274894505739\n",
            "Validation Loss      0.6773271560668945\n",
            "\n",
            "--Epoch 12:--\n",
            "Training Loss        0.6860857531428337\n",
            "Validation Loss      0.6780504584312439\n",
            "\n",
            "--Epoch 13:--\n",
            "Training Loss        0.6783270481973886\n",
            "Validation Loss      0.697364330291748\n",
            "\n",
            "--Epoch 14:--\n",
            "Training Loss        0.6759517006576061\n",
            "Validation Loss      0.6684277653694153\n",
            "\n",
            "--Epoch 15:--\n",
            "Training Loss        0.6729830522090197\n",
            "Validation Loss      0.6661195755004883\n",
            "\n",
            "--Epoch 16:--\n",
            "Training Loss        0.6653286051005125\n",
            "Validation Loss      0.6975182890892029\n",
            "\n",
            "--Epoch 17:--\n",
            "Training Loss        0.663502000272274\n",
            "Validation Loss      0.6479622721672058\n",
            "\n",
            "--Epoch 18:--\n",
            "Training Loss        0.6537399683147669\n",
            "Validation Loss      0.6387799382209778\n",
            "\n",
            "--Epoch 19:--\n",
            "Training Loss        0.6447239704430103\n",
            "Validation Loss      0.6313709020614624\n",
            "\n",
            "--Epoch 20:--\n",
            "Training Loss        0.63675906509161\n",
            "Validation Loss      0.6550472974777222\n",
            "\n",
            "--Epoch 21:--\n",
            "Training Loss        0.6251857411116362\n",
            "Validation Loss      0.6063502430915833\n",
            "\n",
            "--Epoch 22:--\n",
            "Training Loss        0.6099368650466204\n",
            "Validation Loss      0.5966459512710571\n",
            "\n",
            "--Epoch 23:--\n",
            "Training Loss        0.5941165201365948\n",
            "Validation Loss      0.5741462707519531\n",
            "\n",
            "--Epoch 24:--\n",
            "Training Loss        0.5777748711407185\n",
            "Validation Loss      0.5768107175827026\n",
            "\n",
            "--Epoch 25:--\n",
            "Training Loss        0.5610394105315208\n",
            "Validation Loss      0.5366748571395874\n",
            "\n",
            "--Epoch 26:--\n",
            "Training Loss        0.5379250906407833\n",
            "Validation Loss      0.506771445274353\n",
            "\n",
            "--Epoch 27:--\n",
            "Training Loss        0.5157868135720491\n",
            "Validation Loss      0.4800146520137787\n",
            "\n",
            "--Epoch 28:--\n",
            "Training Loss        0.49107622541487217\n",
            "Validation Loss      0.45311620831489563\n",
            "\n",
            "--Epoch 29:--\n",
            "Training Loss        0.46475446689873934\n",
            "Validation Loss      0.4547276794910431\n",
            "\n",
            "--Epoch 30:--\n",
            "Training Loss        0.4397259084507823\n",
            "Validation Loss      0.40345048904418945\n",
            "\n",
            "--Epoch 31:--\n",
            "Training Loss        0.4126270953565836\n",
            "Validation Loss      0.37125709652900696\n",
            "\n",
            "--Epoch 32:--\n",
            "Training Loss        0.3846484776586294\n",
            "Validation Loss      0.3766779601573944\n",
            "\n",
            "--Epoch 33:--\n",
            "Training Loss        0.35915724001824856\n",
            "Validation Loss      0.31998223066329956\n",
            "\n",
            "--Epoch 34:--\n",
            "Training Loss        0.3331582872197032\n",
            "Validation Loss      0.3034590780735016\n",
            "\n",
            "--Epoch 35:--\n",
            "Training Loss        0.3087354125455022\n",
            "Validation Loss      0.2747178077697754\n",
            "\n",
            "--Epoch 36:--\n",
            "Training Loss        0.2872357862070203\n",
            "Validation Loss      0.26336967945098877\n",
            "\n",
            "--Epoch 37:--\n",
            "Training Loss        0.26635657669976354\n",
            "Validation Loss      0.23246106505393982\n",
            "\n",
            "--Epoch 38:--\n",
            "Training Loss        0.2502424498088658\n",
            "Validation Loss      0.21889671683311462\n",
            "\n",
            "--Epoch 39:--\n",
            "Training Loss        0.23203092673793435\n",
            "Validation Loss      0.20328056812286377\n",
            "\n",
            "--Epoch 40:--\n",
            "Training Loss        0.2168234409764409\n",
            "Validation Loss      0.18518908321857452\n",
            "\n",
            "--Epoch 41:--\n",
            "Training Loss        0.20042253285646439\n",
            "Validation Loss      0.17768986523151398\n",
            "\n",
            "--Epoch 42:--\n",
            "Training Loss        0.1868986813351512\n",
            "Validation Loss      0.16581468284130096\n",
            "\n",
            "--Epoch 43:--\n",
            "Training Loss        0.17395675461739302\n",
            "Validation Loss      0.15630555152893066\n",
            "\n",
            "--Epoch 44:--\n",
            "Training Loss        0.16464845184236765\n",
            "Validation Loss      0.14650602638721466\n",
            "\n",
            "--Epoch 45:--\n",
            "Training Loss        0.15542730642482638\n",
            "Validation Loss      0.14084358513355255\n",
            "\n",
            "--Epoch 46:--\n",
            "Training Loss        0.14460039883852005\n",
            "Validation Loss      0.1289292573928833\n",
            "\n",
            "--Epoch 47:--\n",
            "Training Loss        0.13796986336819828\n",
            "Validation Loss      0.12744061648845673\n",
            "\n",
            "--Epoch 48:--\n",
            "Training Loss        0.13028196641243994\n",
            "Validation Loss      0.11433780193328857\n",
            "\n",
            "--Epoch 49:--\n",
            "Training Loss        0.1228075921535492\n",
            "Validation Loss      0.10979851335287094\n",
            "\n",
            "--Epoch 50:--\n",
            "Training Loss        0.11663008737377822\n",
            "Validation Loss      0.10185104608535767\n",
            "\n",
            "--Epoch 51:--\n",
            "Training Loss        0.11154109868220985\n",
            "Validation Loss      0.09660892933607101\n",
            "\n",
            "--Epoch 52:--\n",
            "Training Loss        0.1047247820533812\n",
            "Validation Loss      0.09930340200662613\n",
            "\n",
            "--Epoch 53:--\n",
            "Training Loss        0.10077185113914311\n",
            "Validation Loss      0.09062930196523666\n",
            "\n",
            "--Epoch 54:--\n",
            "Training Loss        0.09586303972173482\n",
            "Validation Loss      0.08647674322128296\n",
            "\n",
            "--Epoch 55:--\n",
            "Training Loss        0.0915114558301866\n",
            "Validation Loss      0.0829530581831932\n",
            "\n",
            "--Epoch 56:--\n",
            "Training Loss        0.08808180969208479\n",
            "Validation Loss      0.08022183924913406\n",
            "\n",
            "--Epoch 57:--\n",
            "Training Loss        0.08460968581493944\n",
            "Validation Loss      0.07761522382497787\n",
            "\n",
            "--Epoch 58:--\n",
            "Training Loss        0.08248870656825602\n",
            "Validation Loss      0.07315582036972046\n",
            "\n",
            "--Epoch 59:--\n",
            "Training Loss        0.07783369859680533\n",
            "Validation Loss      0.07296429574489594\n",
            "\n",
            "--Epoch 60:--\n",
            "Training Loss        0.07586322049610317\n",
            "Validation Loss      0.06969481706619263\n",
            "\n",
            "--Epoch 61:--\n",
            "Training Loss        0.07331319316290319\n",
            "Validation Loss      0.06698334962129593\n",
            "\n",
            "--Epoch 62:--\n",
            "Training Loss        0.06965799978934228\n",
            "Validation Loss      0.06585410237312317\n",
            "\n",
            "--Epoch 63:--\n",
            "Training Loss        0.06840388115961105\n",
            "Validation Loss      0.06429003924131393\n",
            "\n",
            "--Epoch 64:--\n",
            "Training Loss        0.06624817883130163\n",
            "Validation Loss      0.060629524290561676\n",
            "\n",
            "--Epoch 65:--\n",
            "Training Loss        0.06416923250071704\n",
            "Validation Loss      0.057726867496967316\n",
            "\n",
            "--Epoch 66:--\n",
            "Training Loss        0.061113054398447275\n",
            "Validation Loss      0.05762150511145592\n",
            "\n",
            "--Epoch 67:--\n",
            "Training Loss        0.059559498564340174\n",
            "Validation Loss      0.057800211012363434\n",
            "\n",
            "--Epoch 68:--\n",
            "Training Loss        0.05732239002827555\n",
            "Validation Loss      0.05480313301086426\n",
            "\n",
            "--Epoch 69:--\n",
            "Training Loss        0.05677922151517123\n",
            "Validation Loss      0.053639624267816544\n",
            "\n",
            "--Epoch 70:--\n",
            "Training Loss        0.05462138826260343\n",
            "Validation Loss      0.051487985998392105\n",
            "\n",
            "--Epoch 71:--\n",
            "Training Loss        0.052619214286096394\n",
            "Validation Loss      0.051041293889284134\n",
            "\n",
            "--Epoch 72:--\n",
            "Training Loss        0.05142655211966485\n",
            "Validation Loss      0.05050404742360115\n",
            "\n",
            "--Epoch 73:--\n",
            "Training Loss        0.049768756492994726\n",
            "Validation Loss      0.04874693602323532\n",
            "\n",
            "--Epoch 74:--\n",
            "Training Loss        0.05023939395323396\n",
            "Validation Loss      0.05083828419446945\n",
            "\n",
            "--Epoch 75:--\n",
            "Training Loss        0.04722148715518415\n",
            "Validation Loss      0.04659348353743553\n",
            "\n",
            "--Epoch 76:--\n",
            "Training Loss        0.04602136922767386\n",
            "Validation Loss      0.04632341116666794\n",
            "\n",
            "--Epoch 77:--\n",
            "Training Loss        0.04475398821523413\n",
            "Validation Loss      0.04522941634058952\n",
            "\n",
            "--Epoch 78:--\n",
            "Training Loss        0.04485017334809527\n",
            "Validation Loss      0.04317786917090416\n",
            "\n",
            "--Epoch 79:--\n",
            "Training Loss        0.04291091387858614\n",
            "Validation Loss      0.043132297694683075\n",
            "\n",
            "--Epoch 80:--\n",
            "Training Loss        0.0420729395118542\n",
            "Validation Loss      0.043034009635448456\n",
            "\n",
            "--Epoch 81:--\n",
            "Training Loss        0.040761399373877794\n",
            "Validation Loss      0.04155849665403366\n",
            "\n",
            "--Epoch 82:--\n",
            "Training Loss        0.039639641385292634\n",
            "Validation Loss      0.04103327542543411\n",
            "\n",
            "--Epoch 83:--\n",
            "Training Loss        0.039381259586662054\n",
            "Validation Loss      0.03986474499106407\n",
            "\n",
            "--Epoch 84:--\n",
            "Training Loss        0.0384308805805631\n",
            "Validation Loss      0.039915088564157486\n",
            "\n",
            "--Epoch 85:--\n",
            "Training Loss        0.0373586427886039\n",
            "Validation Loss      0.038626186549663544\n",
            "\n",
            "--Epoch 86:--\n",
            "Training Loss        0.03692066244548187\n",
            "Validation Loss      0.03825385123491287\n",
            "\n",
            "--Epoch 87:--\n",
            "Training Loss        0.036156665126327425\n",
            "Validation Loss      0.037045836448669434\n",
            "\n",
            "--Epoch 88:--\n",
            "Training Loss        0.036124236532486975\n",
            "Validation Loss      0.036547865718603134\n",
            "\n",
            "--Epoch 89:--\n",
            "Training Loss        0.034856663551181555\n",
            "Validation Loss      0.03614955022931099\n",
            "\n",
            "--Epoch 90:--\n",
            "Training Loss        0.03398710512556136\n",
            "Validation Loss      0.03632637485861778\n",
            "\n",
            "--Epoch 91:--\n",
            "Training Loss        0.03289008769206703\n",
            "Validation Loss      0.035336073487997055\n",
            "\n",
            "--Epoch 92:--\n",
            "Training Loss        0.03301279433071613\n",
            "Validation Loss      0.035276226699352264\n",
            "\n",
            "--Epoch 93:--\n",
            "Training Loss        0.03222896461375058\n",
            "Validation Loss      0.034269969910383224\n",
            "\n",
            "--Epoch 94:--\n",
            "Training Loss        0.03179639170411974\n",
            "Validation Loss      0.034142352640628815\n",
            "\n",
            "--Epoch 95:--\n",
            "Training Loss        0.030593152361689135\n",
            "Validation Loss      0.033661849796772\n",
            "\n",
            "--Epoch 96:--\n",
            "Training Loss        0.03049114701570943\n",
            "Validation Loss      0.032863643020391464\n",
            "\n",
            "--Epoch 97:--\n",
            "Training Loss        0.029664848610991612\n",
            "Validation Loss      0.03305056691169739\n",
            "\n",
            "--Epoch 98:--\n",
            "Training Loss        0.02937793722958304\n",
            "Validation Loss      0.03228249400854111\n",
            "\n",
            "--Epoch 99:--\n",
            "Training Loss        0.031006841163616627\n",
            "Validation Loss      0.03354168310761452\n",
            "\n",
            "--Epoch 100:--\n",
            "Training Loss        0.028514517121948302\n",
            "Validation Loss      0.031820062547922134\n",
            "\n"
          ]
        }
      ]
    },
    {
      "cell_type": "markdown",
      "source": [
        "## Visualisation"
      ],
      "metadata": {
        "id": "s_recF2zsuhi"
      }
    },
    {
      "cell_type": "code",
      "source": [
        "import pandas as pd\n",
        "\n",
        "epochs = list(range(1, len(train_losses) + 1))\n",
        "df = pd.DataFrame({\n",
        "    \"Epoch\": epochs * 2,\n",
        "    \"Loss\": losses['train_losses'] + losses[\"dev_losses\"],\n",
        "    \"Type\": [\"Train\"] * len(losses['train_losses'] ) + [\"Dev\"] * len(losses['train_losses'] )\n",
        "})\n"
      ],
      "metadata": {
        "id": "hBzGuqDTaUxu"
      },
      "execution_count": 94,
      "outputs": []
    },
    {
      "cell_type": "code",
      "source": [
        "import seaborn as sns\n",
        "import matplotlib.pyplot as plt\n",
        "\n",
        "sns.set(style=\"whitegrid\")\n",
        "plt.figure(figsize=(8, 5))\n",
        "sns.lineplot(data=df, x=\"Epoch\", y=\"Loss\", hue=\"Type\", marker=\"o\")\n",
        "\n",
        "plt.title(\"Training vs Dev Loss\")\n",
        "plt.xlabel(\"Epoch\")\n",
        "plt.ylabel(\"Loss\")\n",
        "plt.legend(title=\"Dataset\")\n",
        "plt.tight_layout()\n",
        "plt.show()\n"
      ],
      "metadata": {
        "colab": {
          "base_uri": "https://localhost:8080/",
          "height": 501
        },
        "id": "AAvs8SQhgUKd",
        "outputId": "001483f4-0a0e-411d-b18e-ca9aab77a3fa"
      },
      "execution_count": 95,
      "outputs": [
        {
          "output_type": "display_data",
          "data": {
            "text/plain": [
              "<Figure size 800x500 with 1 Axes>"
            ],
            "image/png": "[encoded data removed]"
          },
          "metadata": {}
        }
      ]
    },
    {
      "cell_type": "markdown",
      "source": [
        "## Inference"
      ],
      "metadata": {
        "id": "nVzJ1CLDs08D"
      }
    },
    {
      "cell_type": "code",
      "source": [
        "with torch.no_grad():\n",
        "  log_probs = classifier(X_test)\n",
        "  y_pred = torch.argmax(log_probs,dim=1)\n",
        "\n",
        "# Accuracy\n",
        "\n",
        "\n",
        "\n",
        "  print(f\"{'Test Loss':<20} {loss.item()}\")\n",
        "  #print(\"Predicted classes: \",encoder.inverse_transform(y_pred))\n",
        "  #print(\"Gold classes: \",encoder.inverse_transform(y_test))\n"
      ],
      "metadata": {
        "colab": {
          "base_uri": "https://localhost:8080/"
        },
        "id": "aVPIiIk8spsQ",
        "outputId": "ac84660e-7b24-4a4d-e0f2-29f4e8ad358d"
      },
      "execution_count": 91,
      "outputs": [
        {
          "output_type": "stream",
          "name": "stdout",
          "text": [
            "Test Loss            0.02533319778740406\n",
            "Predicted classes:  ['FRENCH' 'FRENCH' 'FRENCH' 'FRENCH' 'FRENCH' 'FRENCH' 'FRENCH' 'FRENCH'\n",
            " 'FRENCH' 'FRENCH' 'FRENCH' 'FRENCH' 'FRENCH' 'FRENCH' 'FRENCH' 'FRENCH'\n",
            " 'FRENCH' 'FRENCH' 'FRENCH' 'FRENCH' 'FRENCH' 'FRENCH' 'FRENCH' 'FRENCH'\n",
            " 'FRENCH' 'FRENCH' 'FRENCH' 'FRENCH' 'FRENCH' 'FRENCH' 'FRENCH' 'FRENCH'\n",
            " 'FRENCH' 'FRENCH' 'FRENCH' 'FRENCH' 'FRENCH' 'FRENCH' 'FRENCH' 'FRENCH'\n",
            " 'FRENCH' 'FRENCH' 'FRENCH' 'FRENCH' 'FRENCH' 'FRENCH' 'FRENCH' 'FRENCH'\n",
            " 'FRENCH' 'FRENCH' 'FRENCH' 'FRENCH' 'FRENCH' 'FRENCH' 'FRENCH' 'FRENCH'\n",
            " 'FRENCH' 'FRENCH' 'FRENCH' 'FRENCH' 'FRENCH' 'FRENCH' 'FRENCH' 'FRENCH'\n",
            " 'FRENCH' 'FRENCH' 'FRENCH' 'FRENCH' 'FRENCH' 'FRENCH' 'FRENCH' 'FRENCH'\n",
            " 'FRENCH' 'FRENCH' 'FRENCH' 'FRENCH' 'FRENCH' 'FRENCH' 'FRENCH' 'FRENCH'\n",
            " 'FRENCH' 'FRENCH' 'FRENCH' 'FRENCH' 'FRENCH' 'FRENCH' 'FRENCH' 'FRENCH'\n",
            " 'FRENCH' 'FRENCH' 'FRENCH' 'FRENCH' 'FRENCH' 'FRENCH' 'FRENCH' 'FRENCH'\n",
            " 'FRENCH' 'FRENCH' 'FRENCH' 'FRENCH' 'ENGLISH' 'ENGLISH' 'ENGLISH'\n",
            " 'ENGLISH' 'ENGLISH' 'ENGLISH' 'ENGLISH' 'ENGLISH' 'ENGLISH' 'ENGLISH'\n",
            " 'ENGLISH' 'ENGLISH' 'ENGLISH' 'ENGLISH' 'ENGLISH' 'ENGLISH' 'ENGLISH'\n",
            " 'ENGLISH' 'ENGLISH' 'ENGLISH' 'ENGLISH' 'ENGLISH' 'ENGLISH' 'ENGLISH'\n",
            " 'ENGLISH' 'ENGLISH' 'ENGLISH' 'ENGLISH' 'ENGLISH' 'ENGLISH' 'ENGLISH'\n",
            " 'ENGLISH' 'ENGLISH' 'ENGLISH' 'ENGLISH' 'ENGLISH' 'ENGLISH' 'ENGLISH'\n",
            " 'ENGLISH' 'ENGLISH' 'ENGLISH' 'ENGLISH' 'ENGLISH' 'ENGLISH' 'ENGLISH'\n",
            " 'ENGLISH' 'ENGLISH' 'ENGLISH' 'ENGLISH' 'ENGLISH' 'ENGLISH' 'ENGLISH'\n",
            " 'ENGLISH' 'ENGLISH' 'ENGLISH' 'ENGLISH' 'ENGLISH' 'ENGLISH' 'ENGLISH'\n",
            " 'ENGLISH' 'ENGLISH' 'ENGLISH' 'ENGLISH' 'ENGLISH' 'ENGLISH' 'ENGLISH'\n",
            " 'ENGLISH' 'ENGLISH' 'ENGLISH' 'ENGLISH' 'ENGLISH' 'ENGLISH' 'ENGLISH'\n",
            " 'ENGLISH' 'ENGLISH' 'ENGLISH' 'ENGLISH' 'ENGLISH' 'ENGLISH' 'ENGLISH'\n",
            " 'ENGLISH' 'ENGLISH' 'ENGLISH' 'ENGLISH' 'ENGLISH' 'ENGLISH' 'ENGLISH'\n",
            " 'ENGLISH' 'ENGLISH' 'ENGLISH' 'ENGLISH' 'ENGLISH' 'ENGLISH' 'ENGLISH'\n",
            " 'ENGLISH' 'ENGLISH' 'ENGLISH' 'ENGLISH' 'ENGLISH' 'ENGLISH']\n",
            "\n",
            "Gold classes:  ['FRENCH' 'FRENCH' 'FRENCH' 'FRENCH' 'FRENCH' 'FRENCH' 'FRENCH' 'FRENCH'\n",
            " 'FRENCH' 'FRENCH' 'FRENCH' 'FRENCH' 'FRENCH' 'FRENCH' 'FRENCH' 'FRENCH'\n",
            " 'FRENCH' 'FRENCH' 'FRENCH' 'FRENCH' 'FRENCH' 'FRENCH' 'FRENCH' 'FRENCH'\n",
            " 'FRENCH' 'FRENCH' 'FRENCH' 'FRENCH' 'FRENCH' 'FRENCH' 'FRENCH' 'FRENCH'\n",
            " 'FRENCH' 'FRENCH' 'FRENCH' 'FRENCH' 'FRENCH' 'FRENCH' 'FRENCH' 'FRENCH'\n",
            " 'FRENCH' 'FRENCH' 'FRENCH' 'FRENCH' 'FRENCH' 'FRENCH' 'FRENCH' 'FRENCH'\n",
            " 'FRENCH' 'FRENCH' 'FRENCH' 'FRENCH' 'FRENCH' 'FRENCH' 'FRENCH' 'FRENCH'\n",
            " 'FRENCH' 'FRENCH' 'FRENCH' 'FRENCH' 'FRENCH' 'FRENCH' 'FRENCH' 'FRENCH'\n",
            " 'FRENCH' 'FRENCH' 'FRENCH' 'FRENCH' 'FRENCH' 'FRENCH' 'FRENCH' 'FRENCH'\n",
            " 'FRENCH' 'FRENCH' 'FRENCH' 'FRENCH' 'FRENCH' 'FRENCH' 'FRENCH' 'FRENCH'\n",
            " 'FRENCH' 'FRENCH' 'FRENCH' 'FRENCH' 'FRENCH' 'FRENCH' 'FRENCH' 'FRENCH'\n",
            " 'FRENCH' 'FRENCH' 'FRENCH' 'FRENCH' 'FRENCH' 'FRENCH' 'FRENCH' 'FRENCH'\n",
            " 'FRENCH' 'FRENCH' 'FRENCH' 'FRENCH' 'ENGLISH' 'ENGLISH' 'ENGLISH'\n",
            " 'ENGLISH' 'ENGLISH' 'ENGLISH' 'ENGLISH' 'ENGLISH' 'ENGLISH' 'ENGLISH'\n",
            " 'ENGLISH' 'ENGLISH' 'ENGLISH' 'ENGLISH' 'ENGLISH' 'ENGLISH' 'ENGLISH'\n",
            " 'ENGLISH' 'ENGLISH' 'ENGLISH' 'ENGLISH' 'ENGLISH' 'ENGLISH' 'ENGLISH'\n",
            " 'ENGLISH' 'ENGLISH' 'ENGLISH' 'ENGLISH' 'ENGLISH' 'ENGLISH' 'ENGLISH'\n",
            " 'ENGLISH' 'ENGLISH' 'ENGLISH' 'ENGLISH' 'ENGLISH' 'ENGLISH' 'ENGLISH'\n",
            " 'ENGLISH' 'ENGLISH' 'ENGLISH' 'ENGLISH' 'ENGLISH' 'ENGLISH' 'ENGLISH'\n",
            " 'ENGLISH' 'ENGLISH' 'ENGLISH' 'ENGLISH' 'ENGLISH' 'ENGLISH' 'ENGLISH'\n",
            " 'ENGLISH' 'ENGLISH' 'ENGLISH' 'ENGLISH' 'ENGLISH' 'ENGLISH' 'ENGLISH'\n",
            " 'ENGLISH' 'ENGLISH' 'ENGLISH' 'ENGLISH' 'ENGLISH' 'ENGLISH' 'ENGLISH'\n",
            " 'ENGLISH' 'ENGLISH' 'ENGLISH' 'ENGLISH' 'ENGLISH' 'ENGLISH' 'ENGLISH'\n",
            " 'ENGLISH' 'ENGLISH' 'ENGLISH' 'ENGLISH' 'ENGLISH' 'ENGLISH' 'ENGLISH'\n",
            " 'ENGLISH' 'ENGLISH' 'ENGLISH' 'ENGLISH' 'ENGLISH' 'ENGLISH' 'ENGLISH'\n",
            " 'ENGLISH' 'ENGLISH' 'ENGLISH' 'ENGLISH' 'ENGLISH' 'ENGLISH' 'ENGLISH'\n",
            " 'ENGLISH' 'ENGLISH' 'ENGLISH' 'ENGLISH' 'ENGLISH' 'ENGLISH']\n"
          ]
        }
      ]
    },
    {
      "cell_type": "code",
      "source": [],
      "metadata": {
        "id": "93YAsSirs54E"
      },
      "execution_count": null,
      "outputs": []
    }
  ]
}